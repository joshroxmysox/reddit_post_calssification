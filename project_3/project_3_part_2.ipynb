{
 "cells": [
  {
   "cell_type": "code",
   "execution_count": 173,
   "metadata": {},
   "outputs": [],
   "source": [
    "import pandas as pd\n",
    "import numpy as np\n",
    "import seaborn as sns\n",
    "import re\n",
    "from nltk.stem import WordNetLemmatizer\n",
    "from sklearn.feature_extraction.text import CountVectorizer\n",
    "import matplotlib.pyplot as plt\n",
    "from vaderSentiment.vaderSentiment import SentimentIntensityAnalyzer\n",
    "from sklearn.ensemble import RandomForestClassifier\n",
    "from sklearn.model_selection import train_test_split, GridSearchCV, cross_val_score\n",
    "from sklearn.neighbors import KNeighborsClassifier\n",
    "from sklearn.metrics import confusion_matrix, plot_confusion_matrix, accuracy_score"
   ]
  },
  {
   "cell_type": "markdown",
   "metadata": {},
   "source": [
    "___"
   ]
  },
  {
   "cell_type": "markdown",
   "metadata": {},
   "source": [
    "# Reading in Data"
   ]
  },
  {
   "cell_type": "code",
   "execution_count": 174,
   "metadata": {},
   "outputs": [
    {
     "name": "stderr",
     "output_type": "stream",
     "text": [
      "C:\\Users\\Anonymous\\anaconda3\\lib\\site-packages\\IPython\\core\\interactiveshell.py:3146: DtypeWarning: Columns (76,80,81) have mixed types.Specify dtype option on import or set low_memory=False.\n",
      "  has_raised = await self.run_ast_nodes(code_ast.body, cell_name,\n"
     ]
    }
   ],
   "source": [
    "microgrowery = pd.read_csv('microgrowery.csv')"
   ]
  },
  {
   "cell_type": "code",
   "execution_count": 175,
   "metadata": {},
   "outputs": [
    {
     "data": {
      "text/html": [
       "<div>\n",
       "<style scoped>\n",
       "    .dataframe tbody tr th:only-of-type {\n",
       "        vertical-align: middle;\n",
       "    }\n",
       "\n",
       "    .dataframe tbody tr th {\n",
       "        vertical-align: top;\n",
       "    }\n",
       "\n",
       "    .dataframe thead th {\n",
       "        text-align: right;\n",
       "    }\n",
       "</style>\n",
       "<table border=\"1\" class=\"dataframe\">\n",
       "  <thead>\n",
       "    <tr style=\"text-align: right;\">\n",
       "      <th></th>\n",
       "      <th>index</th>\n",
       "      <th>all_awardings</th>\n",
       "      <th>allow_live_comments</th>\n",
       "      <th>author</th>\n",
       "      <th>author_flair_css_class</th>\n",
       "      <th>author_flair_richtext</th>\n",
       "      <th>author_flair_text</th>\n",
       "      <th>author_flair_type</th>\n",
       "      <th>author_fullname</th>\n",
       "      <th>author_patreon_flair</th>\n",
       "      <th>...</th>\n",
       "      <th>secure_media_embed</th>\n",
       "      <th>removed_by_category</th>\n",
       "      <th>author_flair_background_color</th>\n",
       "      <th>author_flair_text_color</th>\n",
       "      <th>author_flair_template_id</th>\n",
       "      <th>author_cakeday</th>\n",
       "      <th>edited</th>\n",
       "      <th>poll_data</th>\n",
       "      <th>banned_by</th>\n",
       "      <th>distinguished</th>\n",
       "    </tr>\n",
       "  </thead>\n",
       "  <tbody>\n",
       "    <tr>\n",
       "      <th>0</th>\n",
       "      <td>0</td>\n",
       "      <td>[]</td>\n",
       "      <td>False</td>\n",
       "      <td>ChillyFarm42</td>\n",
       "      <td>NaN</td>\n",
       "      <td>[]</td>\n",
       "      <td>NaN</td>\n",
       "      <td>text</td>\n",
       "      <td>t2_6n1akicd</td>\n",
       "      <td>False</td>\n",
       "      <td>...</td>\n",
       "      <td>NaN</td>\n",
       "      <td>NaN</td>\n",
       "      <td>NaN</td>\n",
       "      <td>NaN</td>\n",
       "      <td>NaN</td>\n",
       "      <td>NaN</td>\n",
       "      <td>NaN</td>\n",
       "      <td>NaN</td>\n",
       "      <td>NaN</td>\n",
       "      <td>NaN</td>\n",
       "    </tr>\n",
       "    <tr>\n",
       "      <th>1</th>\n",
       "      <td>1</td>\n",
       "      <td>[]</td>\n",
       "      <td>False</td>\n",
       "      <td>burittoman</td>\n",
       "      <td>NaN</td>\n",
       "      <td>[]</td>\n",
       "      <td>NaN</td>\n",
       "      <td>text</td>\n",
       "      <td>t2_a13nsqj6</td>\n",
       "      <td>False</td>\n",
       "      <td>...</td>\n",
       "      <td>NaN</td>\n",
       "      <td>NaN</td>\n",
       "      <td>NaN</td>\n",
       "      <td>NaN</td>\n",
       "      <td>NaN</td>\n",
       "      <td>NaN</td>\n",
       "      <td>NaN</td>\n",
       "      <td>NaN</td>\n",
       "      <td>NaN</td>\n",
       "      <td>NaN</td>\n",
       "    </tr>\n",
       "    <tr>\n",
       "      <th>2</th>\n",
       "      <td>2</td>\n",
       "      <td>[]</td>\n",
       "      <td>False</td>\n",
       "      <td>SnooLobsters6695</td>\n",
       "      <td>NaN</td>\n",
       "      <td>[]</td>\n",
       "      <td>NaN</td>\n",
       "      <td>text</td>\n",
       "      <td>t2_7sh0se1w</td>\n",
       "      <td>False</td>\n",
       "      <td>...</td>\n",
       "      <td>NaN</td>\n",
       "      <td>NaN</td>\n",
       "      <td>NaN</td>\n",
       "      <td>NaN</td>\n",
       "      <td>NaN</td>\n",
       "      <td>NaN</td>\n",
       "      <td>NaN</td>\n",
       "      <td>NaN</td>\n",
       "      <td>NaN</td>\n",
       "      <td>NaN</td>\n",
       "    </tr>\n",
       "    <tr>\n",
       "      <th>3</th>\n",
       "      <td>3</td>\n",
       "      <td>[]</td>\n",
       "      <td>False</td>\n",
       "      <td>UkFirstTimer94</td>\n",
       "      <td>NaN</td>\n",
       "      <td>[]</td>\n",
       "      <td>NaN</td>\n",
       "      <td>text</td>\n",
       "      <td>t2_87yp7gwm</td>\n",
       "      <td>False</td>\n",
       "      <td>...</td>\n",
       "      <td>NaN</td>\n",
       "      <td>NaN</td>\n",
       "      <td>NaN</td>\n",
       "      <td>NaN</td>\n",
       "      <td>NaN</td>\n",
       "      <td>NaN</td>\n",
       "      <td>NaN</td>\n",
       "      <td>NaN</td>\n",
       "      <td>NaN</td>\n",
       "      <td>NaN</td>\n",
       "    </tr>\n",
       "    <tr>\n",
       "      <th>4</th>\n",
       "      <td>4</td>\n",
       "      <td>[]</td>\n",
       "      <td>False</td>\n",
       "      <td>horseygrow</td>\n",
       "      <td>NaN</td>\n",
       "      <td>[]</td>\n",
       "      <td>NaN</td>\n",
       "      <td>text</td>\n",
       "      <td>t2_75kcd79l</td>\n",
       "      <td>False</td>\n",
       "      <td>...</td>\n",
       "      <td>NaN</td>\n",
       "      <td>NaN</td>\n",
       "      <td>NaN</td>\n",
       "      <td>NaN</td>\n",
       "      <td>NaN</td>\n",
       "      <td>NaN</td>\n",
       "      <td>NaN</td>\n",
       "      <td>NaN</td>\n",
       "      <td>NaN</td>\n",
       "      <td>NaN</td>\n",
       "    </tr>\n",
       "  </tbody>\n",
       "</table>\n",
       "<p>5 rows × 82 columns</p>\n",
       "</div>"
      ],
      "text/plain": [
       "   index all_awardings  allow_live_comments            author  \\\n",
       "0      0            []                False      ChillyFarm42   \n",
       "1      1            []                False        burittoman   \n",
       "2      2            []                False  SnooLobsters6695   \n",
       "3      3            []                False    UkFirstTimer94   \n",
       "4      4            []                False        horseygrow   \n",
       "\n",
       "  author_flair_css_class author_flair_richtext author_flair_text  \\\n",
       "0                    NaN                    []               NaN   \n",
       "1                    NaN                    []               NaN   \n",
       "2                    NaN                    []               NaN   \n",
       "3                    NaN                    []               NaN   \n",
       "4                    NaN                    []               NaN   \n",
       "\n",
       "  author_flair_type author_fullname author_patreon_flair  ...  \\\n",
       "0              text     t2_6n1akicd                False  ...   \n",
       "1              text     t2_a13nsqj6                False  ...   \n",
       "2              text     t2_7sh0se1w                False  ...   \n",
       "3              text     t2_87yp7gwm                False  ...   \n",
       "4              text     t2_75kcd79l                False  ...   \n",
       "\n",
       "  secure_media_embed removed_by_category  author_flair_background_color  \\\n",
       "0                NaN                 NaN                            NaN   \n",
       "1                NaN                 NaN                            NaN   \n",
       "2                NaN                 NaN                            NaN   \n",
       "3                NaN                 NaN                            NaN   \n",
       "4                NaN                 NaN                            NaN   \n",
       "\n",
       "   author_flair_text_color  author_flair_template_id author_cakeday edited  \\\n",
       "0                      NaN                       NaN            NaN    NaN   \n",
       "1                      NaN                       NaN            NaN    NaN   \n",
       "2                      NaN                       NaN            NaN    NaN   \n",
       "3                      NaN                       NaN            NaN    NaN   \n",
       "4                      NaN                       NaN            NaN    NaN   \n",
       "\n",
       "  poll_data banned_by  distinguished  \n",
       "0       NaN       NaN            NaN  \n",
       "1       NaN       NaN            NaN  \n",
       "2       NaN       NaN            NaN  \n",
       "3       NaN       NaN            NaN  \n",
       "4       NaN       NaN            NaN  \n",
       "\n",
       "[5 rows x 82 columns]"
      ]
     },
     "execution_count": 175,
     "metadata": {},
     "output_type": "execute_result"
    }
   ],
   "source": [
    "microgrowery.head()"
   ]
  },
  {
   "cell_type": "code",
   "execution_count": 176,
   "metadata": {},
   "outputs": [],
   "source": [
    "sandwiches = pd.read_csv('sandwiches.csv')"
   ]
  },
  {
   "cell_type": "code",
   "execution_count": 177,
   "metadata": {},
   "outputs": [
    {
     "data": {
      "text/html": [
       "<div>\n",
       "<style scoped>\n",
       "    .dataframe tbody tr th:only-of-type {\n",
       "        vertical-align: middle;\n",
       "    }\n",
       "\n",
       "    .dataframe tbody tr th {\n",
       "        vertical-align: top;\n",
       "    }\n",
       "\n",
       "    .dataframe thead th {\n",
       "        text-align: right;\n",
       "    }\n",
       "</style>\n",
       "<table border=\"1\" class=\"dataframe\">\n",
       "  <thead>\n",
       "    <tr style=\"text-align: right;\">\n",
       "      <th></th>\n",
       "      <th>index</th>\n",
       "      <th>all_awardings</th>\n",
       "      <th>allow_live_comments</th>\n",
       "      <th>author</th>\n",
       "      <th>author_flair_css_class</th>\n",
       "      <th>author_flair_richtext</th>\n",
       "      <th>author_flair_text</th>\n",
       "      <th>author_flair_type</th>\n",
       "      <th>author_fullname</th>\n",
       "      <th>author_patreon_flair</th>\n",
       "      <th>...</th>\n",
       "      <th>og_title</th>\n",
       "      <th>gilded</th>\n",
       "      <th>rte_mode</th>\n",
       "      <th>author_id</th>\n",
       "      <th>brand_safe</th>\n",
       "      <th>suggested_sort</th>\n",
       "      <th>approved_at_utc</th>\n",
       "      <th>banned_at_utc</th>\n",
       "      <th>view_count</th>\n",
       "      <th>author_created_utc</th>\n",
       "    </tr>\n",
       "  </thead>\n",
       "  <tbody>\n",
       "    <tr>\n",
       "      <th>0</th>\n",
       "      <td>0</td>\n",
       "      <td>[]</td>\n",
       "      <td>False</td>\n",
       "      <td>IntlMan902102020</td>\n",
       "      <td>NaN</td>\n",
       "      <td>[]</td>\n",
       "      <td>NaN</td>\n",
       "      <td>text</td>\n",
       "      <td>t2_521yfhp7</td>\n",
       "      <td>False</td>\n",
       "      <td>...</td>\n",
       "      <td>NaN</td>\n",
       "      <td>NaN</td>\n",
       "      <td>NaN</td>\n",
       "      <td>NaN</td>\n",
       "      <td>NaN</td>\n",
       "      <td>NaN</td>\n",
       "      <td>NaN</td>\n",
       "      <td>NaN</td>\n",
       "      <td>NaN</td>\n",
       "      <td>NaN</td>\n",
       "    </tr>\n",
       "    <tr>\n",
       "      <th>1</th>\n",
       "      <td>1</td>\n",
       "      <td>[]</td>\n",
       "      <td>False</td>\n",
       "      <td>Boknowsnada</td>\n",
       "      <td>NaN</td>\n",
       "      <td>[]</td>\n",
       "      <td>NaN</td>\n",
       "      <td>text</td>\n",
       "      <td>t2_17xvgq7f</td>\n",
       "      <td>False</td>\n",
       "      <td>...</td>\n",
       "      <td>NaN</td>\n",
       "      <td>NaN</td>\n",
       "      <td>NaN</td>\n",
       "      <td>NaN</td>\n",
       "      <td>NaN</td>\n",
       "      <td>NaN</td>\n",
       "      <td>NaN</td>\n",
       "      <td>NaN</td>\n",
       "      <td>NaN</td>\n",
       "      <td>NaN</td>\n",
       "    </tr>\n",
       "    <tr>\n",
       "      <th>2</th>\n",
       "      <td>2</td>\n",
       "      <td>[]</td>\n",
       "      <td>False</td>\n",
       "      <td>jayatisinghal</td>\n",
       "      <td>NaN</td>\n",
       "      <td>[]</td>\n",
       "      <td>NaN</td>\n",
       "      <td>text</td>\n",
       "      <td>t2_1x82nxie</td>\n",
       "      <td>False</td>\n",
       "      <td>...</td>\n",
       "      <td>NaN</td>\n",
       "      <td>NaN</td>\n",
       "      <td>NaN</td>\n",
       "      <td>NaN</td>\n",
       "      <td>NaN</td>\n",
       "      <td>NaN</td>\n",
       "      <td>NaN</td>\n",
       "      <td>NaN</td>\n",
       "      <td>NaN</td>\n",
       "      <td>NaN</td>\n",
       "    </tr>\n",
       "    <tr>\n",
       "      <th>3</th>\n",
       "      <td>3</td>\n",
       "      <td>[]</td>\n",
       "      <td>False</td>\n",
       "      <td>geodog242</td>\n",
       "      <td>NaN</td>\n",
       "      <td>[]</td>\n",
       "      <td>NaN</td>\n",
       "      <td>text</td>\n",
       "      <td>t2_4jx9sk3g</td>\n",
       "      <td>False</td>\n",
       "      <td>...</td>\n",
       "      <td>NaN</td>\n",
       "      <td>NaN</td>\n",
       "      <td>NaN</td>\n",
       "      <td>NaN</td>\n",
       "      <td>NaN</td>\n",
       "      <td>NaN</td>\n",
       "      <td>NaN</td>\n",
       "      <td>NaN</td>\n",
       "      <td>NaN</td>\n",
       "      <td>NaN</td>\n",
       "    </tr>\n",
       "    <tr>\n",
       "      <th>4</th>\n",
       "      <td>4</td>\n",
       "      <td>[]</td>\n",
       "      <td>False</td>\n",
       "      <td>Simp4skin</td>\n",
       "      <td>NaN</td>\n",
       "      <td>[]</td>\n",
       "      <td>NaN</td>\n",
       "      <td>text</td>\n",
       "      <td>t2_a124xnfu</td>\n",
       "      <td>False</td>\n",
       "      <td>...</td>\n",
       "      <td>NaN</td>\n",
       "      <td>NaN</td>\n",
       "      <td>NaN</td>\n",
       "      <td>NaN</td>\n",
       "      <td>NaN</td>\n",
       "      <td>NaN</td>\n",
       "      <td>NaN</td>\n",
       "      <td>NaN</td>\n",
       "      <td>NaN</td>\n",
       "      <td>NaN</td>\n",
       "    </tr>\n",
       "  </tbody>\n",
       "</table>\n",
       "<p>5 rows × 92 columns</p>\n",
       "</div>"
      ],
      "text/plain": [
       "   index all_awardings allow_live_comments            author  \\\n",
       "0      0            []               False  IntlMan902102020   \n",
       "1      1            []               False       Boknowsnada   \n",
       "2      2            []               False     jayatisinghal   \n",
       "3      3            []               False         geodog242   \n",
       "4      4            []               False         Simp4skin   \n",
       "\n",
       "   author_flair_css_class author_flair_richtext  author_flair_text  \\\n",
       "0                     NaN                    []                NaN   \n",
       "1                     NaN                    []                NaN   \n",
       "2                     NaN                    []                NaN   \n",
       "3                     NaN                    []                NaN   \n",
       "4                     NaN                    []                NaN   \n",
       "\n",
       "  author_flair_type author_fullname author_patreon_flair  ... og_title gilded  \\\n",
       "0              text     t2_521yfhp7                False  ...      NaN    NaN   \n",
       "1              text     t2_17xvgq7f                False  ...      NaN    NaN   \n",
       "2              text     t2_1x82nxie                False  ...      NaN    NaN   \n",
       "3              text     t2_4jx9sk3g                False  ...      NaN    NaN   \n",
       "4              text     t2_a124xnfu                False  ...      NaN    NaN   \n",
       "\n",
       "  rte_mode author_id  brand_safe suggested_sort approved_at_utc banned_at_utc  \\\n",
       "0      NaN       NaN         NaN            NaN             NaN           NaN   \n",
       "1      NaN       NaN         NaN            NaN             NaN           NaN   \n",
       "2      NaN       NaN         NaN            NaN             NaN           NaN   \n",
       "3      NaN       NaN         NaN            NaN             NaN           NaN   \n",
       "4      NaN       NaN         NaN            NaN             NaN           NaN   \n",
       "\n",
       "  view_count author_created_utc  \n",
       "0        NaN                NaN  \n",
       "1        NaN                NaN  \n",
       "2        NaN                NaN  \n",
       "3        NaN                NaN  \n",
       "4        NaN                NaN  \n",
       "\n",
       "[5 rows x 92 columns]"
      ]
     },
     "execution_count": 177,
     "metadata": {},
     "output_type": "execute_result"
    }
   ],
   "source": [
    "sandwiches.head()"
   ]
  },
  {
   "cell_type": "markdown",
   "metadata": {},
   "source": [
    "___"
   ]
  },
  {
   "cell_type": "markdown",
   "metadata": {},
   "source": [
    "# Cleaning"
   ]
  },
  {
   "cell_type": "code",
   "execution_count": 178,
   "metadata": {},
   "outputs": [],
   "source": [
    "#I'm only going to be using 'selftext' and 'title' columns\n",
    "\n",
    "microgrowery = microgrowery[['title', 'selftext']]"
   ]
  },
  {
   "cell_type": "code",
   "execution_count": 179,
   "metadata": {},
   "outputs": [],
   "source": [
    "sandwiches = sandwiches[['title', 'selftext']]"
   ]
  },
  {
   "cell_type": "code",
   "execution_count": 180,
   "metadata": {},
   "outputs": [],
   "source": [
    "#Removing NAs\n",
    "\n",
    "microgrowery['selftext'].fillna('', inplace = True)"
   ]
  },
  {
   "cell_type": "code",
   "execution_count": 181,
   "metadata": {},
   "outputs": [],
   "source": [
    "sandwiches['selftext'].fillna('', inplace = True)"
   ]
  },
  {
   "cell_type": "code",
   "execution_count": 182,
   "metadata": {
    "scrolled": true
   },
   "outputs": [
    {
     "data": {
      "text/plain": [
       "                                                                                                                                                                                                                                                                                                                                                                                                                                                                                                                                                                                                                            7830\n",
       "[deleted]                                                                                                                                                                                                                                                                                                                                                                                                                                                                                                                                                                                                                    243\n",
       "[removed]                                                                                                                                                                                                                                                                                                                                                                                                                                                                                                                                                                                                                    169\n",
       "That is all. Please discuss. Thanks in advance!                                                                                                                                                                                                                                                                                                                                                                                                                                                                                                                                                                                2\n",
       "White widow 4wk https://imgur.com/a/9g8pSHD                                                                                                                                                                                                                                                                                                                                                                                                                                                                                                                                                                                    2\n",
       "                                                                                                                                                                                                                                                                                                                                                                                                                                                                                                                                                                                                                            ... \n",
       "If I'm using canna coco coir and all the canna Coco nutrients with RO water do I need to add a cal/mag supplement. I can't find an answer anywhere please help!                                                                                                                                                                                                                                                                                                                                                                                                                                                                1\n",
       "Hi all. I’ve been advised by someone who grows regularly and pulled 51oz from 3 plants. That I should be feeding a and b at a rate of 30ml each. My plant is in a big pot and in the first week of flower. It’s takes 3litres of water every 4-5days. Is this 30ml of each too much? \\nThe plant seems to be doing well, but I’m just a bit concerned. As he was filling a 10litre bucket up and using these measurements but then scooping with a jug out of the bucket and pouring until the plants reservoir tray was full. I’m worried that at 3 litres 30ml isn’t going to dissolve well enough like 10litres does.       1\n",
       "I'm lurking and reading while my seeds and tent eventually get here.\\n\\nDo I need to time my LST during the lights off time? Eg, the 8 hrs? Does taking it out of the tent to work on it for say 30 min at a time mess up the veg-flower rhythm? Assuming photos.                                                                                                                                                                                                                                                                                                                                                              1\n",
       "Say it flowers naturally where I am from in the middle of August and I want my plants to start flowering 2 weeks earlier than that so in my case I would begin tarping on the first of August. Would that mean I would only have to tarp for 2 weeks?                                                                                                                                                                                                                                                                                                                                                                          1\n",
       "When is it too late to put up a scrog  net. Just flipped to flower on my first grow and was going to put it up but am worried I waited to long. Can post pics if needed                                                                                                                                                                                                                                                                                                                                                                                                                                                        1\n",
       "Name: selftext, Length: 1758, dtype: int64"
      ]
     },
     "execution_count": 182,
     "metadata": {},
     "output_type": "execute_result"
    }
   ],
   "source": [
    "#Let's see if anything else glaring needs to be removed\n",
    "\n",
    "microgrowery['selftext'].value_counts()"
   ]
  },
  {
   "cell_type": "code",
   "execution_count": 183,
   "metadata": {},
   "outputs": [],
   "source": [
    "#[deleted] and [removed] need to be removed\n",
    "\n",
    "microgrowery['selftext'] = microgrowery['selftext'].replace(['[removed]', '[deleted]'], '')"
   ]
  },
  {
   "cell_type": "code",
   "execution_count": 184,
   "metadata": {},
   "outputs": [],
   "source": [
    "sandwiches['selftext'] = sandwiches['selftext'].replace(['[removed]', '[deleted]'], '')"
   ]
  },
  {
   "cell_type": "code",
   "execution_count": 185,
   "metadata": {
    "scrolled": true
   },
   "outputs": [
    {
     "data": {
      "text/plain": [
       "The sampler (update)                                                                                                                                                                                                                                                                                            13\n",
       "Grafted Freakshow, Hop and others on White Widow mother update                                                                                                                                                                                                                                                   8\n",
       "Weird Mutation? Comments for more info                                                                                                                                                                                                                                                                           7\n",
       "Grafted Freakshow, Hop and others on White Widow update                                                                                                                                                                                                                                                          7\n",
       "First grow almost done ! Blackberry hammer Grown in coco , had a couple hiccups but dealt with them the best I could . Only more room for improvement!                                                                                                                                                           6\n",
       "                                                                                                                                                                                                                                                                                                                ..\n",
       "Loving this Trim Bin!                                                                                                                                                                                                                                                                                            1\n",
       "First grow went great thanks to some dope advice from here. Next week Wednesday is week 9, so I should be good to harvest.                                                                                                                                                                                       1\n",
       "Is it time to flip? Any tips to get ready for the flip? First time grower thinking of flipping in 3-6 days. 70 days in veg 5 gallon smart pots 50%ffof 25%ffhf 25%perlite. 32\" of room from the net for my plants to grow.60%indica strain future harvest nutrients started 25% at 50% and 240w kingbrite QB     1\n",
       "Are these revegging?                                                                                                                                                                                                                                                                                             1\n",
       "[Question] Growing 3 autoflowers and 1 photoperiod in the same tent.                                                                                                                                                                                                                                             1\n",
       "Name: title, Length: 9751, dtype: int64"
      ]
     },
     "execution_count": 185,
     "metadata": {},
     "output_type": "execute_result"
    }
   ],
   "source": [
    "#Let's look at the title column\n",
    "\n",
    "microgrowery['title'].value_counts()\n",
    "\n",
    "#This looks fine"
   ]
  },
  {
   "cell_type": "code",
   "execution_count": 186,
   "metadata": {
    "scrolled": true
   },
   "outputs": [
    {
     "data": {
      "text/plain": [
       "Sandwich                                                                                                                                                                                                                                            11\n",
       "BLTA with t h i c c cut homemade hickory-smoked bacon and brown sugar mustard sauce                                                                                                                                                                  9\n",
       "Double stacked \"BLT(T)\" (bacon, lettuce, tomato &amp; turkey) with deli-fresh honey roasted turkey breast, spicy southwestern-style turkey breast, hickory bacon, lettuce and tomato on a toasted brioche bun; w/ a homemade spicy chipotle mayo     7\n",
       "Pokemon Go Hack Android/iOS 🔥 Pokemon Go Spoofing Joystick GPS &amp; Telepor...                                                                                                                                                                      4\n",
       "Muffuletta from the Central Grocery Co, New Orleans. Ham ,salami,mortadella,Swiss cheese and pickled green olive, cauliflower,carrot,onion, garlic,herbs.                                                                                            4\n",
       "                                                                                                                                                                                                                                                    ..\n",
       "I made this                                                                                                                                                                                                                                          1\n",
       "Hot sausage, coleslaw, cheese &amp; fries between some fresh Italian​ bread.                                                                                                                                                                         1\n",
       "Ham, Salami and Cooper Sharp, chopped olives, oil , salt and pepper on a Ciabatta roll                                                                                                                                                               1\n",
       "bahn mi sandwich i took a picture of years ago.                                                                                                                                                                                                      1\n",
       "Vanilla on cookie with a salty caramel spread! Very dangerous!                                                                                                                                                                                       1\n",
       "Name: title, Length: 4973, dtype: int64"
      ]
     },
     "execution_count": 186,
     "metadata": {},
     "output_type": "execute_result"
    }
   ],
   "source": [
    "sandwiches['title'].value_counts()\n",
    "\n",
    "#Looks good here too"
   ]
  },
  {
   "cell_type": "code",
   "execution_count": 187,
   "metadata": {},
   "outputs": [],
   "source": [
    "#I'm gonna add a column that says what reddit the row comes from\n",
    "\n",
    "microgrowery['from'] = 'microgrowery'"
   ]
  },
  {
   "cell_type": "code",
   "execution_count": 188,
   "metadata": {},
   "outputs": [],
   "source": [
    "sandwiches['from'] = 'sandwiches'"
   ]
  },
  {
   "cell_type": "code",
   "execution_count": 189,
   "metadata": {},
   "outputs": [
    {
     "data": {
      "text/html": [
       "<div>\n",
       "<style scoped>\n",
       "    .dataframe tbody tr th:only-of-type {\n",
       "        vertical-align: middle;\n",
       "    }\n",
       "\n",
       "    .dataframe tbody tr th {\n",
       "        vertical-align: top;\n",
       "    }\n",
       "\n",
       "    .dataframe thead th {\n",
       "        text-align: right;\n",
       "    }\n",
       "</style>\n",
       "<table border=\"1\" class=\"dataframe\">\n",
       "  <thead>\n",
       "    <tr style=\"text-align: right;\">\n",
       "      <th></th>\n",
       "      <th>title</th>\n",
       "      <th>selftext</th>\n",
       "      <th>from</th>\n",
       "    </tr>\n",
       "  </thead>\n",
       "  <tbody>\n",
       "    <tr>\n",
       "      <th>0</th>\n",
       "      <td>Day 13 of flower starting too get a nice stret...</td>\n",
       "      <td></td>\n",
       "      <td>microgrowery</td>\n",
       "    </tr>\n",
       "    <tr>\n",
       "      <th>1</th>\n",
       "      <td>15 days since it emerged, 18h LED lights per d...</td>\n",
       "      <td></td>\n",
       "      <td>microgrowery</td>\n",
       "    </tr>\n",
       "    <tr>\n",
       "      <th>2</th>\n",
       "      <td>First post ever, 3th grow: coco, LED, automati...</td>\n",
       "      <td></td>\n",
       "      <td>microgrowery</td>\n",
       "    </tr>\n",
       "    <tr>\n",
       "      <th>3</th>\n",
       "      <td>How long do people think I have left before ch...</td>\n",
       "      <td></td>\n",
       "      <td>microgrowery</td>\n",
       "    </tr>\n",
       "    <tr>\n",
       "      <th>4</th>\n",
       "      <td>What is happening to my little babes? It sprea...</td>\n",
       "      <td></td>\n",
       "      <td>microgrowery</td>\n",
       "    </tr>\n",
       "  </tbody>\n",
       "</table>\n",
       "</div>"
      ],
      "text/plain": [
       "                                               title selftext          from\n",
       "0  Day 13 of flower starting too get a nice stret...           microgrowery\n",
       "1  15 days since it emerged, 18h LED lights per d...           microgrowery\n",
       "2  First post ever, 3th grow: coco, LED, automati...           microgrowery\n",
       "3  How long do people think I have left before ch...           microgrowery\n",
       "4  What is happening to my little babes? It sprea...           microgrowery"
      ]
     },
     "execution_count": 189,
     "metadata": {},
     "output_type": "execute_result"
    }
   ],
   "source": [
    "microgrowery.head()"
   ]
  },
  {
   "cell_type": "code",
   "execution_count": 190,
   "metadata": {},
   "outputs": [
    {
     "data": {
      "text/html": [
       "<div>\n",
       "<style scoped>\n",
       "    .dataframe tbody tr th:only-of-type {\n",
       "        vertical-align: middle;\n",
       "    }\n",
       "\n",
       "    .dataframe tbody tr th {\n",
       "        vertical-align: top;\n",
       "    }\n",
       "\n",
       "    .dataframe thead th {\n",
       "        text-align: right;\n",
       "    }\n",
       "</style>\n",
       "<table border=\"1\" class=\"dataframe\">\n",
       "  <thead>\n",
       "    <tr style=\"text-align: right;\">\n",
       "      <th></th>\n",
       "      <th>title</th>\n",
       "      <th>selftext</th>\n",
       "      <th>from</th>\n",
       "    </tr>\n",
       "  </thead>\n",
       "  <tbody>\n",
       "    <tr>\n",
       "      <th>0</th>\n",
       "      <td>Spicy chicken parm sliders w/ a side of grapev...</td>\n",
       "      <td></td>\n",
       "      <td>sandwiches</td>\n",
       "    </tr>\n",
       "    <tr>\n",
       "      <th>1</th>\n",
       "      <td>Egg salad and ham. Reminds me of thanksgiving</td>\n",
       "      <td></td>\n",
       "      <td>sandwiches</td>\n",
       "    </tr>\n",
       "    <tr>\n",
       "      <th>2</th>\n",
       "      <td>Homemade Potato Smiley | Potato Smiley | Eveni...</td>\n",
       "      <td></td>\n",
       "      <td>sandwiches</td>\n",
       "    </tr>\n",
       "    <tr>\n",
       "      <th>3</th>\n",
       "      <td>Pimento cheese dip, sausage and egg breakfast ...</td>\n",
       "      <td></td>\n",
       "      <td>sandwiches</td>\n",
       "    </tr>\n",
       "    <tr>\n",
       "      <th>4</th>\n",
       "      <td>Chicago style sandwich.</td>\n",
       "      <td></td>\n",
       "      <td>sandwiches</td>\n",
       "    </tr>\n",
       "  </tbody>\n",
       "</table>\n",
       "</div>"
      ],
      "text/plain": [
       "                                               title selftext        from\n",
       "0  Spicy chicken parm sliders w/ a side of grapev...           sandwiches\n",
       "1      Egg salad and ham. Reminds me of thanksgiving           sandwiches\n",
       "2  Homemade Potato Smiley | Potato Smiley | Eveni...           sandwiches\n",
       "3  Pimento cheese dip, sausage and egg breakfast ...           sandwiches\n",
       "4                            Chicago style sandwich.           sandwiches"
      ]
     },
     "execution_count": 190,
     "metadata": {},
     "output_type": "execute_result"
    }
   ],
   "source": [
    "sandwiches.head()"
   ]
  },
  {
   "cell_type": "code",
   "execution_count": 191,
   "metadata": {},
   "outputs": [],
   "source": [
    "#Since there are so many missing 'selftext', I'm going to combine them with the title\n",
    "\n",
    "microgrowery['text'] = microgrowery['title'] + ' ' + microgrowery['selftext']"
   ]
  },
  {
   "cell_type": "code",
   "execution_count": 192,
   "metadata": {},
   "outputs": [],
   "source": [
    "sandwiches['text'] = sandwiches['title'] + ' ' + sandwiches['selftext']"
   ]
  },
  {
   "cell_type": "code",
   "execution_count": 193,
   "metadata": {},
   "outputs": [
    {
     "data": {
      "text/html": [
       "<div>\n",
       "<style scoped>\n",
       "    .dataframe tbody tr th:only-of-type {\n",
       "        vertical-align: middle;\n",
       "    }\n",
       "\n",
       "    .dataframe tbody tr th {\n",
       "        vertical-align: top;\n",
       "    }\n",
       "\n",
       "    .dataframe thead th {\n",
       "        text-align: right;\n",
       "    }\n",
       "</style>\n",
       "<table border=\"1\" class=\"dataframe\">\n",
       "  <thead>\n",
       "    <tr style=\"text-align: right;\">\n",
       "      <th></th>\n",
       "      <th>title</th>\n",
       "      <th>selftext</th>\n",
       "      <th>from</th>\n",
       "      <th>text</th>\n",
       "    </tr>\n",
       "  </thead>\n",
       "  <tbody>\n",
       "    <tr>\n",
       "      <th>0</th>\n",
       "      <td>Day 13 of flower starting too get a nice stret...</td>\n",
       "      <td></td>\n",
       "      <td>microgrowery</td>\n",
       "      <td>Day 13 of flower starting too get a nice stret...</td>\n",
       "    </tr>\n",
       "    <tr>\n",
       "      <th>1</th>\n",
       "      <td>15 days since it emerged, 18h LED lights per d...</td>\n",
       "      <td></td>\n",
       "      <td>microgrowery</td>\n",
       "      <td>15 days since it emerged, 18h LED lights per d...</td>\n",
       "    </tr>\n",
       "    <tr>\n",
       "      <th>2</th>\n",
       "      <td>First post ever, 3th grow: coco, LED, automati...</td>\n",
       "      <td></td>\n",
       "      <td>microgrowery</td>\n",
       "      <td>First post ever, 3th grow: coco, LED, automati...</td>\n",
       "    </tr>\n",
       "    <tr>\n",
       "      <th>3</th>\n",
       "      <td>How long do people think I have left before ch...</td>\n",
       "      <td></td>\n",
       "      <td>microgrowery</td>\n",
       "      <td>How long do people think I have left before ch...</td>\n",
       "    </tr>\n",
       "    <tr>\n",
       "      <th>4</th>\n",
       "      <td>What is happening to my little babes? It sprea...</td>\n",
       "      <td></td>\n",
       "      <td>microgrowery</td>\n",
       "      <td>What is happening to my little babes? It sprea...</td>\n",
       "    </tr>\n",
       "  </tbody>\n",
       "</table>\n",
       "</div>"
      ],
      "text/plain": [
       "                                               title selftext          from  \\\n",
       "0  Day 13 of flower starting too get a nice stret...           microgrowery   \n",
       "1  15 days since it emerged, 18h LED lights per d...           microgrowery   \n",
       "2  First post ever, 3th grow: coco, LED, automati...           microgrowery   \n",
       "3  How long do people think I have left before ch...           microgrowery   \n",
       "4  What is happening to my little babes? It sprea...           microgrowery   \n",
       "\n",
       "                                                text  \n",
       "0  Day 13 of flower starting too get a nice stret...  \n",
       "1  15 days since it emerged, 18h LED lights per d...  \n",
       "2  First post ever, 3th grow: coco, LED, automati...  \n",
       "3  How long do people think I have left before ch...  \n",
       "4  What is happening to my little babes? It sprea...  "
      ]
     },
     "execution_count": 193,
     "metadata": {},
     "output_type": "execute_result"
    }
   ],
   "source": [
    "microgrowery.head()"
   ]
  },
  {
   "cell_type": "code",
   "execution_count": 194,
   "metadata": {},
   "outputs": [
    {
     "data": {
      "text/html": [
       "<div>\n",
       "<style scoped>\n",
       "    .dataframe tbody tr th:only-of-type {\n",
       "        vertical-align: middle;\n",
       "    }\n",
       "\n",
       "    .dataframe tbody tr th {\n",
       "        vertical-align: top;\n",
       "    }\n",
       "\n",
       "    .dataframe thead th {\n",
       "        text-align: right;\n",
       "    }\n",
       "</style>\n",
       "<table border=\"1\" class=\"dataframe\">\n",
       "  <thead>\n",
       "    <tr style=\"text-align: right;\">\n",
       "      <th></th>\n",
       "      <th>title</th>\n",
       "      <th>selftext</th>\n",
       "      <th>from</th>\n",
       "      <th>text</th>\n",
       "    </tr>\n",
       "  </thead>\n",
       "  <tbody>\n",
       "    <tr>\n",
       "      <th>0</th>\n",
       "      <td>Spicy chicken parm sliders w/ a side of grapev...</td>\n",
       "      <td></td>\n",
       "      <td>sandwiches</td>\n",
       "      <td>Spicy chicken parm sliders w/ a side of grapev...</td>\n",
       "    </tr>\n",
       "    <tr>\n",
       "      <th>1</th>\n",
       "      <td>Egg salad and ham. Reminds me of thanksgiving</td>\n",
       "      <td></td>\n",
       "      <td>sandwiches</td>\n",
       "      <td>Egg salad and ham. Reminds me of thanksgiving</td>\n",
       "    </tr>\n",
       "    <tr>\n",
       "      <th>2</th>\n",
       "      <td>Homemade Potato Smiley | Potato Smiley | Eveni...</td>\n",
       "      <td></td>\n",
       "      <td>sandwiches</td>\n",
       "      <td>Homemade Potato Smiley | Potato Smiley | Eveni...</td>\n",
       "    </tr>\n",
       "    <tr>\n",
       "      <th>3</th>\n",
       "      <td>Pimento cheese dip, sausage and egg breakfast ...</td>\n",
       "      <td></td>\n",
       "      <td>sandwiches</td>\n",
       "      <td>Pimento cheese dip, sausage and egg breakfast ...</td>\n",
       "    </tr>\n",
       "    <tr>\n",
       "      <th>4</th>\n",
       "      <td>Chicago style sandwich.</td>\n",
       "      <td></td>\n",
       "      <td>sandwiches</td>\n",
       "      <td>Chicago style sandwich.</td>\n",
       "    </tr>\n",
       "  </tbody>\n",
       "</table>\n",
       "</div>"
      ],
      "text/plain": [
       "                                               title selftext        from  \\\n",
       "0  Spicy chicken parm sliders w/ a side of grapev...           sandwiches   \n",
       "1      Egg salad and ham. Reminds me of thanksgiving           sandwiches   \n",
       "2  Homemade Potato Smiley | Potato Smiley | Eveni...           sandwiches   \n",
       "3  Pimento cheese dip, sausage and egg breakfast ...           sandwiches   \n",
       "4                            Chicago style sandwich.           sandwiches   \n",
       "\n",
       "                                                text  \n",
       "0  Spicy chicken parm sliders w/ a side of grapev...  \n",
       "1     Egg salad and ham. Reminds me of thanksgiving   \n",
       "2  Homemade Potato Smiley | Potato Smiley | Eveni...  \n",
       "3  Pimento cheese dip, sausage and egg breakfast ...  \n",
       "4                           Chicago style sandwich.   "
      ]
     },
     "execution_count": 194,
     "metadata": {},
     "output_type": "execute_result"
    }
   ],
   "source": [
    "sandwiches.head()"
   ]
  },
  {
   "cell_type": "code",
   "execution_count": 195,
   "metadata": {},
   "outputs": [],
   "source": [
    "#I'm going to lowercase everything in the text field\n",
    "\n",
    "microgrowery['text'] = [text.lower() for text in microgrowery['text']]"
   ]
  },
  {
   "cell_type": "code",
   "execution_count": 196,
   "metadata": {},
   "outputs": [],
   "source": [
    "sandwiches['text'] = [text.lower() for text in sandwiches['text']]"
   ]
  },
  {
   "cell_type": "code",
   "execution_count": 197,
   "metadata": {},
   "outputs": [
    {
     "data": {
      "text/html": [
       "<div>\n",
       "<style scoped>\n",
       "    .dataframe tbody tr th:only-of-type {\n",
       "        vertical-align: middle;\n",
       "    }\n",
       "\n",
       "    .dataframe tbody tr th {\n",
       "        vertical-align: top;\n",
       "    }\n",
       "\n",
       "    .dataframe thead th {\n",
       "        text-align: right;\n",
       "    }\n",
       "</style>\n",
       "<table border=\"1\" class=\"dataframe\">\n",
       "  <thead>\n",
       "    <tr style=\"text-align: right;\">\n",
       "      <th></th>\n",
       "      <th>title</th>\n",
       "      <th>selftext</th>\n",
       "      <th>from</th>\n",
       "      <th>text</th>\n",
       "    </tr>\n",
       "  </thead>\n",
       "  <tbody>\n",
       "    <tr>\n",
       "      <th>0</th>\n",
       "      <td>Day 13 of flower starting too get a nice stret...</td>\n",
       "      <td></td>\n",
       "      <td>microgrowery</td>\n",
       "      <td>day 13 of flower starting too get a nice stret...</td>\n",
       "    </tr>\n",
       "    <tr>\n",
       "      <th>1</th>\n",
       "      <td>15 days since it emerged, 18h LED lights per d...</td>\n",
       "      <td></td>\n",
       "      <td>microgrowery</td>\n",
       "      <td>15 days since it emerged, 18h led lights per d...</td>\n",
       "    </tr>\n",
       "    <tr>\n",
       "      <th>2</th>\n",
       "      <td>First post ever, 3th grow: coco, LED, automati...</td>\n",
       "      <td></td>\n",
       "      <td>microgrowery</td>\n",
       "      <td>first post ever, 3th grow: coco, led, automati...</td>\n",
       "    </tr>\n",
       "    <tr>\n",
       "      <th>3</th>\n",
       "      <td>How long do people think I have left before ch...</td>\n",
       "      <td></td>\n",
       "      <td>microgrowery</td>\n",
       "      <td>how long do people think i have left before ch...</td>\n",
       "    </tr>\n",
       "    <tr>\n",
       "      <th>4</th>\n",
       "      <td>What is happening to my little babes? It sprea...</td>\n",
       "      <td></td>\n",
       "      <td>microgrowery</td>\n",
       "      <td>what is happening to my little babes? it sprea...</td>\n",
       "    </tr>\n",
       "  </tbody>\n",
       "</table>\n",
       "</div>"
      ],
      "text/plain": [
       "                                               title selftext          from  \\\n",
       "0  Day 13 of flower starting too get a nice stret...           microgrowery   \n",
       "1  15 days since it emerged, 18h LED lights per d...           microgrowery   \n",
       "2  First post ever, 3th grow: coco, LED, automati...           microgrowery   \n",
       "3  How long do people think I have left before ch...           microgrowery   \n",
       "4  What is happening to my little babes? It sprea...           microgrowery   \n",
       "\n",
       "                                                text  \n",
       "0  day 13 of flower starting too get a nice stret...  \n",
       "1  15 days since it emerged, 18h led lights per d...  \n",
       "2  first post ever, 3th grow: coco, led, automati...  \n",
       "3  how long do people think i have left before ch...  \n",
       "4  what is happening to my little babes? it sprea...  "
      ]
     },
     "execution_count": 197,
     "metadata": {},
     "output_type": "execute_result"
    }
   ],
   "source": [
    "microgrowery.head()"
   ]
  },
  {
   "cell_type": "code",
   "execution_count": 198,
   "metadata": {},
   "outputs": [
    {
     "data": {
      "text/html": [
       "<div>\n",
       "<style scoped>\n",
       "    .dataframe tbody tr th:only-of-type {\n",
       "        vertical-align: middle;\n",
       "    }\n",
       "\n",
       "    .dataframe tbody tr th {\n",
       "        vertical-align: top;\n",
       "    }\n",
       "\n",
       "    .dataframe thead th {\n",
       "        text-align: right;\n",
       "    }\n",
       "</style>\n",
       "<table border=\"1\" class=\"dataframe\">\n",
       "  <thead>\n",
       "    <tr style=\"text-align: right;\">\n",
       "      <th></th>\n",
       "      <th>title</th>\n",
       "      <th>selftext</th>\n",
       "      <th>from</th>\n",
       "      <th>text</th>\n",
       "    </tr>\n",
       "  </thead>\n",
       "  <tbody>\n",
       "    <tr>\n",
       "      <th>0</th>\n",
       "      <td>Spicy chicken parm sliders w/ a side of grapev...</td>\n",
       "      <td></td>\n",
       "      <td>sandwiches</td>\n",
       "      <td>spicy chicken parm sliders w/ a side of grapev...</td>\n",
       "    </tr>\n",
       "    <tr>\n",
       "      <th>1</th>\n",
       "      <td>Egg salad and ham. Reminds me of thanksgiving</td>\n",
       "      <td></td>\n",
       "      <td>sandwiches</td>\n",
       "      <td>egg salad and ham. reminds me of thanksgiving</td>\n",
       "    </tr>\n",
       "    <tr>\n",
       "      <th>2</th>\n",
       "      <td>Homemade Potato Smiley | Potato Smiley | Eveni...</td>\n",
       "      <td></td>\n",
       "      <td>sandwiches</td>\n",
       "      <td>homemade potato smiley | potato smiley | eveni...</td>\n",
       "    </tr>\n",
       "    <tr>\n",
       "      <th>3</th>\n",
       "      <td>Pimento cheese dip, sausage and egg breakfast ...</td>\n",
       "      <td></td>\n",
       "      <td>sandwiches</td>\n",
       "      <td>pimento cheese dip, sausage and egg breakfast ...</td>\n",
       "    </tr>\n",
       "    <tr>\n",
       "      <th>4</th>\n",
       "      <td>Chicago style sandwich.</td>\n",
       "      <td></td>\n",
       "      <td>sandwiches</td>\n",
       "      <td>chicago style sandwich.</td>\n",
       "    </tr>\n",
       "  </tbody>\n",
       "</table>\n",
       "</div>"
      ],
      "text/plain": [
       "                                               title selftext        from  \\\n",
       "0  Spicy chicken parm sliders w/ a side of grapev...           sandwiches   \n",
       "1      Egg salad and ham. Reminds me of thanksgiving           sandwiches   \n",
       "2  Homemade Potato Smiley | Potato Smiley | Eveni...           sandwiches   \n",
       "3  Pimento cheese dip, sausage and egg breakfast ...           sandwiches   \n",
       "4                            Chicago style sandwich.           sandwiches   \n",
       "\n",
       "                                                text  \n",
       "0  spicy chicken parm sliders w/ a side of grapev...  \n",
       "1     egg salad and ham. reminds me of thanksgiving   \n",
       "2  homemade potato smiley | potato smiley | eveni...  \n",
       "3  pimento cheese dip, sausage and egg breakfast ...  \n",
       "4                           chicago style sandwich.   "
      ]
     },
     "execution_count": 198,
     "metadata": {},
     "output_type": "execute_result"
    }
   ],
   "source": [
    "sandwiches.head()"
   ]
  },
  {
   "cell_type": "code",
   "execution_count": 199,
   "metadata": {},
   "outputs": [],
   "source": [
    "#I'm going to remove all the punctuation amd everything that isn't character or space\n",
    "\n",
    "microgrowery['text'] = [re.sub(pattern = '[^\\w\\s]', repl =  '', string = box) for box in microgrowery['text']]"
   ]
  },
  {
   "cell_type": "code",
   "execution_count": 200,
   "metadata": {},
   "outputs": [],
   "source": [
    "sandwiches['text'] = [re.sub(pattern = '[^\\w\\s]', repl =  '', string = box) for box in sandwiches['text']]"
   ]
  },
  {
   "cell_type": "code",
   "execution_count": 201,
   "metadata": {},
   "outputs": [],
   "source": [
    "#I'm going to remove the numbers\n",
    "\n",
    "microgrowery['text'] = [re.sub(pattern = '\\d+', repl =  '', string = box) for box in microgrowery['text']]"
   ]
  },
  {
   "cell_type": "code",
   "execution_count": 202,
   "metadata": {},
   "outputs": [],
   "source": [
    "sandwiches['text'] = [re.sub(pattern = '\\d+', repl =  '', string = box) for box in sandwiches['text']]"
   ]
  },
  {
   "cell_type": "code",
   "execution_count": 203,
   "metadata": {},
   "outputs": [],
   "source": [
    "#Removing non english characters\n",
    "#Source : https://datascience.stackexchange.com/questions/46705/to-remove-chinese-characters-as-features\n",
    "\n",
    "\n",
    "microgrowery['text'] = [re.sub(pattern = \"([^\\x00-\\x7F])+\", repl = \" \", string = box) for box in microgrowery['text']]"
   ]
  },
  {
   "cell_type": "code",
   "execution_count": 204,
   "metadata": {},
   "outputs": [],
   "source": [
    "sandwiches['text'] = [re.sub(pattern = \"([^\\x00-\\x7F])+\", repl = \" \", string = box) for box in sandwiches['text']]"
   ]
  },
  {
   "cell_type": "code",
   "execution_count": 205,
   "metadata": {
    "scrolled": true
   },
   "outputs": [
    {
     "data": {
      "text/html": [
       "<div>\n",
       "<style scoped>\n",
       "    .dataframe tbody tr th:only-of-type {\n",
       "        vertical-align: middle;\n",
       "    }\n",
       "\n",
       "    .dataframe tbody tr th {\n",
       "        vertical-align: top;\n",
       "    }\n",
       "\n",
       "    .dataframe thead th {\n",
       "        text-align: right;\n",
       "    }\n",
       "</style>\n",
       "<table border=\"1\" class=\"dataframe\">\n",
       "  <thead>\n",
       "    <tr style=\"text-align: right;\">\n",
       "      <th></th>\n",
       "      <th>title</th>\n",
       "      <th>selftext</th>\n",
       "      <th>from</th>\n",
       "      <th>text</th>\n",
       "    </tr>\n",
       "  </thead>\n",
       "  <tbody>\n",
       "    <tr>\n",
       "      <th>0</th>\n",
       "      <td>Day 13 of flower starting too get a nice stret...</td>\n",
       "      <td></td>\n",
       "      <td>microgrowery</td>\n",
       "      <td>day  of flower starting too get a nice stretch...</td>\n",
       "    </tr>\n",
       "    <tr>\n",
       "      <th>1</th>\n",
       "      <td>15 days since it emerged, 18h LED lights per d...</td>\n",
       "      <td></td>\n",
       "      <td>microgrowery</td>\n",
       "      <td>days since it emerged h led lights per dayfox...</td>\n",
       "    </tr>\n",
       "    <tr>\n",
       "      <th>2</th>\n",
       "      <td>First post ever, 3th grow: coco, LED, automati...</td>\n",
       "      <td></td>\n",
       "      <td>microgrowery</td>\n",
       "      <td>first post ever th grow coco led automatic fer...</td>\n",
       "    </tr>\n",
       "    <tr>\n",
       "      <th>3</th>\n",
       "      <td>How long do people think I have left before ch...</td>\n",
       "      <td></td>\n",
       "      <td>microgrowery</td>\n",
       "      <td>how long do people think i have left before ch...</td>\n",
       "    </tr>\n",
       "    <tr>\n",
       "      <th>4</th>\n",
       "      <td>What is happening to my little babes? It sprea...</td>\n",
       "      <td></td>\n",
       "      <td>microgrowery</td>\n",
       "      <td>what is happening to my little babes it spread...</td>\n",
       "    </tr>\n",
       "  </tbody>\n",
       "</table>\n",
       "</div>"
      ],
      "text/plain": [
       "                                               title selftext          from  \\\n",
       "0  Day 13 of flower starting too get a nice stret...           microgrowery   \n",
       "1  15 days since it emerged, 18h LED lights per d...           microgrowery   \n",
       "2  First post ever, 3th grow: coco, LED, automati...           microgrowery   \n",
       "3  How long do people think I have left before ch...           microgrowery   \n",
       "4  What is happening to my little babes? It sprea...           microgrowery   \n",
       "\n",
       "                                                text  \n",
       "0  day  of flower starting too get a nice stretch...  \n",
       "1   days since it emerged h led lights per dayfox...  \n",
       "2  first post ever th grow coco led automatic fer...  \n",
       "3  how long do people think i have left before ch...  \n",
       "4  what is happening to my little babes it spread...  "
      ]
     },
     "execution_count": 205,
     "metadata": {},
     "output_type": "execute_result"
    }
   ],
   "source": [
    "microgrowery.head()"
   ]
  },
  {
   "cell_type": "markdown",
   "metadata": {},
   "source": [
    "-----"
   ]
  },
  {
   "cell_type": "markdown",
   "metadata": {},
   "source": [
    "### Lemmatizing"
   ]
  },
  {
   "cell_type": "code",
   "execution_count": 206,
   "metadata": {},
   "outputs": [],
   "source": [
    "#Source: https://www.geeksforgeeks.org/python-lemmatization-with-nltk/\n",
    "\n",
    "#Instantiating lemmatizer\n",
    "\n",
    "lemmatize = WordNetLemmatizer()"
   ]
  },
  {
   "cell_type": "code",
   "execution_count": 207,
   "metadata": {},
   "outputs": [],
   "source": [
    "#For microgrowery \n",
    "\n",
    "lemontized = []\n",
    "for box in microgrowery['text']:\n",
    "    lemontized.append(' '.join([lemmatize.lemmatize(word) for word in box.split()]))"
   ]
  },
  {
   "cell_type": "code",
   "execution_count": 208,
   "metadata": {},
   "outputs": [],
   "source": [
    "microgrowery['text'] = lemontized"
   ]
  },
  {
   "cell_type": "code",
   "execution_count": 209,
   "metadata": {},
   "outputs": [
    {
     "data": {
      "text/html": [
       "<div>\n",
       "<style scoped>\n",
       "    .dataframe tbody tr th:only-of-type {\n",
       "        vertical-align: middle;\n",
       "    }\n",
       "\n",
       "    .dataframe tbody tr th {\n",
       "        vertical-align: top;\n",
       "    }\n",
       "\n",
       "    .dataframe thead th {\n",
       "        text-align: right;\n",
       "    }\n",
       "</style>\n",
       "<table border=\"1\" class=\"dataframe\">\n",
       "  <thead>\n",
       "    <tr style=\"text-align: right;\">\n",
       "      <th></th>\n",
       "      <th>title</th>\n",
       "      <th>selftext</th>\n",
       "      <th>from</th>\n",
       "      <th>text</th>\n",
       "    </tr>\n",
       "  </thead>\n",
       "  <tbody>\n",
       "    <tr>\n",
       "      <th>0</th>\n",
       "      <td>Day 13 of flower starting too get a nice stret...</td>\n",
       "      <td></td>\n",
       "      <td>microgrowery</td>\n",
       "      <td>day of flower starting too get a nice stretch ...</td>\n",
       "    </tr>\n",
       "    <tr>\n",
       "      <th>1</th>\n",
       "      <td>15 days since it emerged, 18h LED lights per d...</td>\n",
       "      <td></td>\n",
       "      <td>microgrowery</td>\n",
       "      <td>day since it emerged h led light per dayfoxfar...</td>\n",
       "    </tr>\n",
       "    <tr>\n",
       "      <th>2</th>\n",
       "      <td>First post ever, 3th grow: coco, LED, automati...</td>\n",
       "      <td></td>\n",
       "      <td>microgrowery</td>\n",
       "      <td>first post ever th grow coco led automatic fer...</td>\n",
       "    </tr>\n",
       "    <tr>\n",
       "      <th>3</th>\n",
       "      <td>How long do people think I have left before ch...</td>\n",
       "      <td></td>\n",
       "      <td>microgrowery</td>\n",
       "      <td>how long do people think i have left before ch...</td>\n",
       "    </tr>\n",
       "    <tr>\n",
       "      <th>4</th>\n",
       "      <td>What is happening to my little babes? It sprea...</td>\n",
       "      <td></td>\n",
       "      <td>microgrowery</td>\n",
       "      <td>what is happening to my little babe it spread ...</td>\n",
       "    </tr>\n",
       "  </tbody>\n",
       "</table>\n",
       "</div>"
      ],
      "text/plain": [
       "                                               title selftext          from  \\\n",
       "0  Day 13 of flower starting too get a nice stret...           microgrowery   \n",
       "1  15 days since it emerged, 18h LED lights per d...           microgrowery   \n",
       "2  First post ever, 3th grow: coco, LED, automati...           microgrowery   \n",
       "3  How long do people think I have left before ch...           microgrowery   \n",
       "4  What is happening to my little babes? It sprea...           microgrowery   \n",
       "\n",
       "                                                text  \n",
       "0  day of flower starting too get a nice stretch ...  \n",
       "1  day since it emerged h led light per dayfoxfar...  \n",
       "2  first post ever th grow coco led automatic fer...  \n",
       "3  how long do people think i have left before ch...  \n",
       "4  what is happening to my little babe it spread ...  "
      ]
     },
     "execution_count": 209,
     "metadata": {},
     "output_type": "execute_result"
    }
   ],
   "source": [
    "microgrowery.head()"
   ]
  },
  {
   "cell_type": "code",
   "execution_count": 210,
   "metadata": {},
   "outputs": [],
   "source": [
    "#For sandwiches\n",
    "\n",
    "lemontized = []\n",
    "for box in sandwiches['text']:\n",
    "    lemontized.append(' '.join([lemmatize.lemmatize(word) for word in box.split()]))"
   ]
  },
  {
   "cell_type": "code",
   "execution_count": 211,
   "metadata": {},
   "outputs": [],
   "source": [
    "sandwiches['text'] = lemontized"
   ]
  },
  {
   "cell_type": "code",
   "execution_count": 212,
   "metadata": {},
   "outputs": [
    {
     "data": {
      "text/html": [
       "<div>\n",
       "<style scoped>\n",
       "    .dataframe tbody tr th:only-of-type {\n",
       "        vertical-align: middle;\n",
       "    }\n",
       "\n",
       "    .dataframe tbody tr th {\n",
       "        vertical-align: top;\n",
       "    }\n",
       "\n",
       "    .dataframe thead th {\n",
       "        text-align: right;\n",
       "    }\n",
       "</style>\n",
       "<table border=\"1\" class=\"dataframe\">\n",
       "  <thead>\n",
       "    <tr style=\"text-align: right;\">\n",
       "      <th></th>\n",
       "      <th>title</th>\n",
       "      <th>selftext</th>\n",
       "      <th>from</th>\n",
       "      <th>text</th>\n",
       "    </tr>\n",
       "  </thead>\n",
       "  <tbody>\n",
       "    <tr>\n",
       "      <th>0</th>\n",
       "      <td>Spicy chicken parm sliders w/ a side of grapev...</td>\n",
       "      <td></td>\n",
       "      <td>sandwiches</td>\n",
       "      <td>spicy chicken parm slider w a side of grapevin...</td>\n",
       "    </tr>\n",
       "    <tr>\n",
       "      <th>1</th>\n",
       "      <td>Egg salad and ham. Reminds me of thanksgiving</td>\n",
       "      <td></td>\n",
       "      <td>sandwiches</td>\n",
       "      <td>egg salad and ham reminds me of thanksgiving</td>\n",
       "    </tr>\n",
       "    <tr>\n",
       "      <th>2</th>\n",
       "      <td>Homemade Potato Smiley | Potato Smiley | Eveni...</td>\n",
       "      <td></td>\n",
       "      <td>sandwiches</td>\n",
       "      <td>homemade potato smiley potato smiley evening s...</td>\n",
       "    </tr>\n",
       "    <tr>\n",
       "      <th>3</th>\n",
       "      <td>Pimento cheese dip, sausage and egg breakfast ...</td>\n",
       "      <td></td>\n",
       "      <td>sandwiches</td>\n",
       "      <td>pimento cheese dip sausage and egg breakfast s...</td>\n",
       "    </tr>\n",
       "    <tr>\n",
       "      <th>4</th>\n",
       "      <td>Chicago style sandwich.</td>\n",
       "      <td></td>\n",
       "      <td>sandwiches</td>\n",
       "      <td>chicago style sandwich</td>\n",
       "    </tr>\n",
       "  </tbody>\n",
       "</table>\n",
       "</div>"
      ],
      "text/plain": [
       "                                               title selftext        from  \\\n",
       "0  Spicy chicken parm sliders w/ a side of grapev...           sandwiches   \n",
       "1      Egg salad and ham. Reminds me of thanksgiving           sandwiches   \n",
       "2  Homemade Potato Smiley | Potato Smiley | Eveni...           sandwiches   \n",
       "3  Pimento cheese dip, sausage and egg breakfast ...           sandwiches   \n",
       "4                            Chicago style sandwich.           sandwiches   \n",
       "\n",
       "                                                text  \n",
       "0  spicy chicken parm slider w a side of grapevin...  \n",
       "1       egg salad and ham reminds me of thanksgiving  \n",
       "2  homemade potato smiley potato smiley evening s...  \n",
       "3  pimento cheese dip sausage and egg breakfast s...  \n",
       "4                             chicago style sandwich  "
      ]
     },
     "execution_count": 212,
     "metadata": {},
     "output_type": "execute_result"
    }
   ],
   "source": [
    "sandwiches.head()"
   ]
  },
  {
   "cell_type": "markdown",
   "metadata": {},
   "source": [
    "---"
   ]
  },
  {
   "cell_type": "markdown",
   "metadata": {},
   "source": [
    "## Adding word count columns to each dataframe"
   ]
  },
  {
   "cell_type": "code",
   "execution_count": 213,
   "metadata": {},
   "outputs": [],
   "source": [
    "#Word count distribution\n",
    "\n",
    "microgrowery['word_count'] = [len(box.split()) for box in microgrowery['text']]"
   ]
  },
  {
   "cell_type": "code",
   "execution_count": 214,
   "metadata": {},
   "outputs": [],
   "source": [
    "sandwiches['word_count'] = [len(box.split()) for box in sandwiches['text']]"
   ]
  },
  {
   "cell_type": "markdown",
   "metadata": {},
   "source": [
    "### Empty cell check"
   ]
  },
  {
   "cell_type": "code",
   "execution_count": 215,
   "metadata": {},
   "outputs": [],
   "source": [
    "#Removing any rows that have 0 words\n",
    "\n",
    "microgrowery = microgrowery[microgrowery['word_count'] != 0]"
   ]
  },
  {
   "cell_type": "code",
   "execution_count": 216,
   "metadata": {},
   "outputs": [],
   "source": [
    "sandwiches = sandwiches[sandwiches['word_count'] != 0]"
   ]
  },
  {
   "cell_type": "markdown",
   "metadata": {},
   "source": [
    "---"
   ]
  },
  {
   "cell_type": "markdown",
   "metadata": {},
   "source": [
    "### Taking 5000 rows from each"
   ]
  },
  {
   "cell_type": "code",
   "execution_count": 217,
   "metadata": {},
   "outputs": [],
   "source": [
    "microgrowery = microgrowery[ : 5000]"
   ]
  },
  {
   "cell_type": "code",
   "execution_count": 218,
   "metadata": {},
   "outputs": [],
   "source": [
    "sandwiches = sandwiches[ : 5000]"
   ]
  },
  {
   "cell_type": "markdown",
   "metadata": {},
   "source": [
    "---"
   ]
  },
  {
   "cell_type": "markdown",
   "metadata": {},
   "source": [
    "## Combinging the two subreddits"
   ]
  },
  {
   "cell_type": "code",
   "execution_count": 219,
   "metadata": {},
   "outputs": [],
   "source": [
    "#Merging the data\n",
    "\n",
    "merged = microgrowery.append(sandwiches)"
   ]
  },
  {
   "cell_type": "code",
   "execution_count": 220,
   "metadata": {},
   "outputs": [
    {
     "data": {
      "text/html": [
       "<div>\n",
       "<style scoped>\n",
       "    .dataframe tbody tr th:only-of-type {\n",
       "        vertical-align: middle;\n",
       "    }\n",
       "\n",
       "    .dataframe tbody tr th {\n",
       "        vertical-align: top;\n",
       "    }\n",
       "\n",
       "    .dataframe thead th {\n",
       "        text-align: right;\n",
       "    }\n",
       "</style>\n",
       "<table border=\"1\" class=\"dataframe\">\n",
       "  <thead>\n",
       "    <tr style=\"text-align: right;\">\n",
       "      <th></th>\n",
       "      <th>title</th>\n",
       "      <th>selftext</th>\n",
       "      <th>from</th>\n",
       "      <th>text</th>\n",
       "      <th>word_count</th>\n",
       "    </tr>\n",
       "  </thead>\n",
       "  <tbody>\n",
       "    <tr>\n",
       "      <th>0</th>\n",
       "      <td>Day 13 of flower starting too get a nice stret...</td>\n",
       "      <td></td>\n",
       "      <td>microgrowery</td>\n",
       "      <td>day of flower starting too get a nice stretch ...</td>\n",
       "      <td>11</td>\n",
       "    </tr>\n",
       "    <tr>\n",
       "      <th>1</th>\n",
       "      <td>15 days since it emerged, 18h LED lights per d...</td>\n",
       "      <td></td>\n",
       "      <td>microgrowery</td>\n",
       "      <td>day since it emerged h led light per dayfoxfar...</td>\n",
       "      <td>20</td>\n",
       "    </tr>\n",
       "    <tr>\n",
       "      <th>2</th>\n",
       "      <td>First post ever, 3th grow: coco, LED, automati...</td>\n",
       "      <td></td>\n",
       "      <td>microgrowery</td>\n",
       "      <td>first post ever th grow coco led automatic fer...</td>\n",
       "      <td>32</td>\n",
       "    </tr>\n",
       "    <tr>\n",
       "      <th>3</th>\n",
       "      <td>How long do people think I have left before ch...</td>\n",
       "      <td></td>\n",
       "      <td>microgrowery</td>\n",
       "      <td>how long do people think i have left before ch...</td>\n",
       "      <td>45</td>\n",
       "    </tr>\n",
       "    <tr>\n",
       "      <th>4</th>\n",
       "      <td>What is happening to my little babes? It sprea...</td>\n",
       "      <td></td>\n",
       "      <td>microgrowery</td>\n",
       "      <td>what is happening to my little babe it spread ...</td>\n",
       "      <td>14</td>\n",
       "    </tr>\n",
       "  </tbody>\n",
       "</table>\n",
       "</div>"
      ],
      "text/plain": [
       "                                               title selftext          from  \\\n",
       "0  Day 13 of flower starting too get a nice stret...           microgrowery   \n",
       "1  15 days since it emerged, 18h LED lights per d...           microgrowery   \n",
       "2  First post ever, 3th grow: coco, LED, automati...           microgrowery   \n",
       "3  How long do people think I have left before ch...           microgrowery   \n",
       "4  What is happening to my little babes? It sprea...           microgrowery   \n",
       "\n",
       "                                                text  word_count  \n",
       "0  day of flower starting too get a nice stretch ...          11  \n",
       "1  day since it emerged h led light per dayfoxfar...          20  \n",
       "2  first post ever th grow coco led automatic fer...          32  \n",
       "3  how long do people think i have left before ch...          45  \n",
       "4  what is happening to my little babe it spread ...          14  "
      ]
     },
     "execution_count": 220,
     "metadata": {},
     "output_type": "execute_result"
    }
   ],
   "source": [
    "merged.head()"
   ]
  },
  {
   "cell_type": "markdown",
   "metadata": {},
   "source": [
    "## Countvectorizeing the data"
   ]
  },
  {
   "cell_type": "code",
   "execution_count": 221,
   "metadata": {},
   "outputs": [],
   "source": [
    "#Instantiating CountVectorizer with english stop words\n",
    "\n",
    "countvecula = CountVectorizer(stop_words = 'english')"
   ]
  },
  {
   "cell_type": "code",
   "execution_count": 222,
   "metadata": {},
   "outputs": [],
   "source": [
    "#Fitting and transforming the merged['text'] columns\n",
    "\n",
    "word_matrix = countvecula.fit_transform(merged['text'])"
   ]
  },
  {
   "cell_type": "code",
   "execution_count": 223,
   "metadata": {},
   "outputs": [],
   "source": [
    "#Creating dataframe of vectorized data\n",
    "\n",
    "vectorized = pd.DataFrame(word_matrix.toarray(), columns = countvecula.get_feature_names())"
   ]
  },
  {
   "cell_type": "code",
   "execution_count": 224,
   "metadata": {},
   "outputs": [
    {
     "data": {
      "text/html": [
       "<div>\n",
       "<style scoped>\n",
       "    .dataframe tbody tr th:only-of-type {\n",
       "        vertical-align: middle;\n",
       "    }\n",
       "\n",
       "    .dataframe tbody tr th {\n",
       "        vertical-align: top;\n",
       "    }\n",
       "\n",
       "    .dataframe thead th {\n",
       "        text-align: right;\n",
       "    }\n",
       "</style>\n",
       "<table border=\"1\" class=\"dataframe\">\n",
       "  <thead>\n",
       "    <tr style=\"text-align: right;\">\n",
       "      <th></th>\n",
       "      <th>aaaaaaaaaa</th>\n",
       "      <th>aampb</th>\n",
       "      <th>aardvark</th>\n",
       "      <th>aarhus</th>\n",
       "      <th>ab</th>\n",
       "      <th>abandoned</th>\n",
       "      <th>abc</th>\n",
       "      <th>ability</th>\n",
       "      <th>abit</th>\n",
       "      <th>able</th>\n",
       "      <th>...</th>\n",
       "      <th>zone</th>\n",
       "      <th>zookies</th>\n",
       "      <th>zoom</th>\n",
       "      <th>zoomed</th>\n",
       "      <th>zour</th>\n",
       "      <th>zskittles</th>\n",
       "      <th>zucchini</th>\n",
       "      <th>zukes</th>\n",
       "      <th>zymes</th>\n",
       "      <th>zywiecka</th>\n",
       "    </tr>\n",
       "  </thead>\n",
       "  <tbody>\n",
       "    <tr>\n",
       "      <th>0</th>\n",
       "      <td>0</td>\n",
       "      <td>0</td>\n",
       "      <td>0</td>\n",
       "      <td>0</td>\n",
       "      <td>0</td>\n",
       "      <td>0</td>\n",
       "      <td>0</td>\n",
       "      <td>0</td>\n",
       "      <td>0</td>\n",
       "      <td>0</td>\n",
       "      <td>...</td>\n",
       "      <td>0</td>\n",
       "      <td>0</td>\n",
       "      <td>0</td>\n",
       "      <td>0</td>\n",
       "      <td>0</td>\n",
       "      <td>0</td>\n",
       "      <td>0</td>\n",
       "      <td>0</td>\n",
       "      <td>0</td>\n",
       "      <td>0</td>\n",
       "    </tr>\n",
       "    <tr>\n",
       "      <th>1</th>\n",
       "      <td>0</td>\n",
       "      <td>0</td>\n",
       "      <td>0</td>\n",
       "      <td>0</td>\n",
       "      <td>0</td>\n",
       "      <td>0</td>\n",
       "      <td>0</td>\n",
       "      <td>0</td>\n",
       "      <td>0</td>\n",
       "      <td>0</td>\n",
       "      <td>...</td>\n",
       "      <td>0</td>\n",
       "      <td>0</td>\n",
       "      <td>0</td>\n",
       "      <td>0</td>\n",
       "      <td>0</td>\n",
       "      <td>0</td>\n",
       "      <td>0</td>\n",
       "      <td>0</td>\n",
       "      <td>0</td>\n",
       "      <td>0</td>\n",
       "    </tr>\n",
       "    <tr>\n",
       "      <th>2</th>\n",
       "      <td>0</td>\n",
       "      <td>0</td>\n",
       "      <td>0</td>\n",
       "      <td>0</td>\n",
       "      <td>0</td>\n",
       "      <td>0</td>\n",
       "      <td>0</td>\n",
       "      <td>0</td>\n",
       "      <td>0</td>\n",
       "      <td>0</td>\n",
       "      <td>...</td>\n",
       "      <td>0</td>\n",
       "      <td>0</td>\n",
       "      <td>0</td>\n",
       "      <td>0</td>\n",
       "      <td>0</td>\n",
       "      <td>0</td>\n",
       "      <td>0</td>\n",
       "      <td>0</td>\n",
       "      <td>0</td>\n",
       "      <td>0</td>\n",
       "    </tr>\n",
       "    <tr>\n",
       "      <th>3</th>\n",
       "      <td>0</td>\n",
       "      <td>0</td>\n",
       "      <td>0</td>\n",
       "      <td>0</td>\n",
       "      <td>0</td>\n",
       "      <td>0</td>\n",
       "      <td>0</td>\n",
       "      <td>0</td>\n",
       "      <td>0</td>\n",
       "      <td>0</td>\n",
       "      <td>...</td>\n",
       "      <td>0</td>\n",
       "      <td>0</td>\n",
       "      <td>0</td>\n",
       "      <td>0</td>\n",
       "      <td>0</td>\n",
       "      <td>0</td>\n",
       "      <td>0</td>\n",
       "      <td>0</td>\n",
       "      <td>0</td>\n",
       "      <td>0</td>\n",
       "    </tr>\n",
       "    <tr>\n",
       "      <th>4</th>\n",
       "      <td>0</td>\n",
       "      <td>0</td>\n",
       "      <td>0</td>\n",
       "      <td>0</td>\n",
       "      <td>0</td>\n",
       "      <td>0</td>\n",
       "      <td>0</td>\n",
       "      <td>0</td>\n",
       "      <td>0</td>\n",
       "      <td>0</td>\n",
       "      <td>...</td>\n",
       "      <td>0</td>\n",
       "      <td>0</td>\n",
       "      <td>0</td>\n",
       "      <td>0</td>\n",
       "      <td>0</td>\n",
       "      <td>0</td>\n",
       "      <td>0</td>\n",
       "      <td>0</td>\n",
       "      <td>0</td>\n",
       "      <td>0</td>\n",
       "    </tr>\n",
       "    <tr>\n",
       "      <th>...</th>\n",
       "      <td>...</td>\n",
       "      <td>...</td>\n",
       "      <td>...</td>\n",
       "      <td>...</td>\n",
       "      <td>...</td>\n",
       "      <td>...</td>\n",
       "      <td>...</td>\n",
       "      <td>...</td>\n",
       "      <td>...</td>\n",
       "      <td>...</td>\n",
       "      <td>...</td>\n",
       "      <td>...</td>\n",
       "      <td>...</td>\n",
       "      <td>...</td>\n",
       "      <td>...</td>\n",
       "      <td>...</td>\n",
       "      <td>...</td>\n",
       "      <td>...</td>\n",
       "      <td>...</td>\n",
       "      <td>...</td>\n",
       "      <td>...</td>\n",
       "    </tr>\n",
       "    <tr>\n",
       "      <th>9995</th>\n",
       "      <td>0</td>\n",
       "      <td>0</td>\n",
       "      <td>0</td>\n",
       "      <td>0</td>\n",
       "      <td>0</td>\n",
       "      <td>0</td>\n",
       "      <td>0</td>\n",
       "      <td>0</td>\n",
       "      <td>0</td>\n",
       "      <td>0</td>\n",
       "      <td>...</td>\n",
       "      <td>0</td>\n",
       "      <td>0</td>\n",
       "      <td>0</td>\n",
       "      <td>0</td>\n",
       "      <td>0</td>\n",
       "      <td>0</td>\n",
       "      <td>0</td>\n",
       "      <td>0</td>\n",
       "      <td>0</td>\n",
       "      <td>0</td>\n",
       "    </tr>\n",
       "    <tr>\n",
       "      <th>9996</th>\n",
       "      <td>0</td>\n",
       "      <td>0</td>\n",
       "      <td>0</td>\n",
       "      <td>0</td>\n",
       "      <td>0</td>\n",
       "      <td>0</td>\n",
       "      <td>0</td>\n",
       "      <td>0</td>\n",
       "      <td>0</td>\n",
       "      <td>0</td>\n",
       "      <td>...</td>\n",
       "      <td>0</td>\n",
       "      <td>0</td>\n",
       "      <td>0</td>\n",
       "      <td>0</td>\n",
       "      <td>0</td>\n",
       "      <td>0</td>\n",
       "      <td>0</td>\n",
       "      <td>0</td>\n",
       "      <td>0</td>\n",
       "      <td>0</td>\n",
       "    </tr>\n",
       "    <tr>\n",
       "      <th>9997</th>\n",
       "      <td>0</td>\n",
       "      <td>0</td>\n",
       "      <td>0</td>\n",
       "      <td>0</td>\n",
       "      <td>0</td>\n",
       "      <td>0</td>\n",
       "      <td>0</td>\n",
       "      <td>0</td>\n",
       "      <td>0</td>\n",
       "      <td>0</td>\n",
       "      <td>...</td>\n",
       "      <td>0</td>\n",
       "      <td>0</td>\n",
       "      <td>0</td>\n",
       "      <td>0</td>\n",
       "      <td>0</td>\n",
       "      <td>0</td>\n",
       "      <td>0</td>\n",
       "      <td>0</td>\n",
       "      <td>0</td>\n",
       "      <td>0</td>\n",
       "    </tr>\n",
       "    <tr>\n",
       "      <th>9998</th>\n",
       "      <td>0</td>\n",
       "      <td>0</td>\n",
       "      <td>0</td>\n",
       "      <td>0</td>\n",
       "      <td>0</td>\n",
       "      <td>0</td>\n",
       "      <td>0</td>\n",
       "      <td>0</td>\n",
       "      <td>0</td>\n",
       "      <td>0</td>\n",
       "      <td>...</td>\n",
       "      <td>0</td>\n",
       "      <td>0</td>\n",
       "      <td>0</td>\n",
       "      <td>0</td>\n",
       "      <td>0</td>\n",
       "      <td>0</td>\n",
       "      <td>0</td>\n",
       "      <td>0</td>\n",
       "      <td>0</td>\n",
       "      <td>0</td>\n",
       "    </tr>\n",
       "    <tr>\n",
       "      <th>9999</th>\n",
       "      <td>0</td>\n",
       "      <td>0</td>\n",
       "      <td>0</td>\n",
       "      <td>0</td>\n",
       "      <td>0</td>\n",
       "      <td>0</td>\n",
       "      <td>0</td>\n",
       "      <td>0</td>\n",
       "      <td>0</td>\n",
       "      <td>0</td>\n",
       "      <td>...</td>\n",
       "      <td>0</td>\n",
       "      <td>0</td>\n",
       "      <td>0</td>\n",
       "      <td>0</td>\n",
       "      <td>0</td>\n",
       "      <td>0</td>\n",
       "      <td>0</td>\n",
       "      <td>0</td>\n",
       "      <td>0</td>\n",
       "      <td>0</td>\n",
       "    </tr>\n",
       "  </tbody>\n",
       "</table>\n",
       "<p>10000 rows × 11651 columns</p>\n",
       "</div>"
      ],
      "text/plain": [
       "      aaaaaaaaaa  aampb  aardvark  aarhus  ab  abandoned  abc  ability  abit  \\\n",
       "0              0      0         0       0   0          0    0        0     0   \n",
       "1              0      0         0       0   0          0    0        0     0   \n",
       "2              0      0         0       0   0          0    0        0     0   \n",
       "3              0      0         0       0   0          0    0        0     0   \n",
       "4              0      0         0       0   0          0    0        0     0   \n",
       "...          ...    ...       ...     ...  ..        ...  ...      ...   ...   \n",
       "9995           0      0         0       0   0          0    0        0     0   \n",
       "9996           0      0         0       0   0          0    0        0     0   \n",
       "9997           0      0         0       0   0          0    0        0     0   \n",
       "9998           0      0         0       0   0          0    0        0     0   \n",
       "9999           0      0         0       0   0          0    0        0     0   \n",
       "\n",
       "      able  ...  zone  zookies  zoom  zoomed  zour  zskittles  zucchini  \\\n",
       "0        0  ...     0        0     0       0     0          0         0   \n",
       "1        0  ...     0        0     0       0     0          0         0   \n",
       "2        0  ...     0        0     0       0     0          0         0   \n",
       "3        0  ...     0        0     0       0     0          0         0   \n",
       "4        0  ...     0        0     0       0     0          0         0   \n",
       "...    ...  ...   ...      ...   ...     ...   ...        ...       ...   \n",
       "9995     0  ...     0        0     0       0     0          0         0   \n",
       "9996     0  ...     0        0     0       0     0          0         0   \n",
       "9997     0  ...     0        0     0       0     0          0         0   \n",
       "9998     0  ...     0        0     0       0     0          0         0   \n",
       "9999     0  ...     0        0     0       0     0          0         0   \n",
       "\n",
       "      zukes  zymes  zywiecka  \n",
       "0         0      0         0  \n",
       "1         0      0         0  \n",
       "2         0      0         0  \n",
       "3         0      0         0  \n",
       "4         0      0         0  \n",
       "...     ...    ...       ...  \n",
       "9995      0      0         0  \n",
       "9996      0      0         0  \n",
       "9997      0      0         0  \n",
       "9998      0      0         0  \n",
       "9999      0      0         0  \n",
       "\n",
       "[10000 rows x 11651 columns]"
      ]
     },
     "execution_count": 224,
     "metadata": {},
     "output_type": "execute_result"
    }
   ],
   "source": [
    "vectorized"
   ]
  },
  {
   "cell_type": "code",
   "execution_count": 225,
   "metadata": {},
   "outputs": [],
   "source": [
    "#Adding back the 'from' column from the merged dataframe so I can use it as the target variable\n",
    "#during modeling\n",
    "\n",
    "vectorized['from_sub'] = [box for box in merged['from']]"
   ]
  },
  {
   "cell_type": "code",
   "execution_count": 226,
   "metadata": {},
   "outputs": [],
   "source": [
    "#Save vectorized data to csv\n",
    "\n",
    "vectorized.to_csv('data/vectorized.csv', index = False)"
   ]
  },
  {
   "cell_type": "code",
   "execution_count": 227,
   "metadata": {},
   "outputs": [],
   "source": [
    "#Save individual dataframes\n",
    "\n",
    "microgrowery.to_csv('data/microgrowery_cleaned.csv')\n",
    "\n",
    "sandwiches.to_csv('data/sandwiches_cleaned.csv')"
   ]
  },
  {
   "cell_type": "markdown",
   "metadata": {},
   "source": [
    "# EDA"
   ]
  },
  {
   "cell_type": "code",
   "execution_count": 228,
   "metadata": {},
   "outputs": [
    {
     "data": {
      "image/png": "[encoded data removed]",
      "text/plain": [
       "<Figure size 432x288 with 1 Axes>"
      ]
     },
     "metadata": {
      "needs_background": "light"
     },
     "output_type": "display_data"
    }
   ],
   "source": [
    "sns.histplot(microgrowery['word_count'])\n",
    "plt.title('Microgrowery Word Count Distribution')\n",
    "plt.xlabel('Word Count');"
   ]
  },
  {
   "cell_type": "code",
   "execution_count": 229,
   "metadata": {},
   "outputs": [
    {
     "data": {
      "image/png": "[encoded data removed]",
      "text/plain": [
       "<Figure size 432x288 with 1 Axes>"
      ]
     },
     "metadata": {
      "needs_background": "light"
     },
     "output_type": "display_data"
    }
   ],
   "source": [
    "#Going to narrow it down to <100 to get a better visual\n",
    "\n",
    "sns.histplot(microgrowery[microgrowery['word_count'] <= 100], palette = 'Reds').axvline(microgrowery['word_count'].mean())\n",
    "plt.title('Microgrowery Word Count Distribution')\n",
    "plt.xlabel('Word Count');\n",
    "plt.savefig('images/mg_wc.jpg')"
   ]
  },
  {
   "cell_type": "markdown",
   "metadata": {},
   "source": [
    "The distirubtion is heavily skewed to the right, which makes sense because people probably don't want to write a lot."
   ]
  },
  {
   "cell_type": "code",
   "execution_count": 230,
   "metadata": {},
   "outputs": [
    {
     "data": {
      "image/png": "[encoded data removed]",
      "text/plain": [
       "<Figure size 432x288 with 1 Axes>"
      ]
     },
     "metadata": {
      "needs_background": "light"
     },
     "output_type": "display_data"
    }
   ],
   "source": [
    "sns.histplot(sandwiches['word_count'])\n",
    "plt.title('Sandwiches Word Count Distribution')\n",
    "plt.xlabel('Word Count');"
   ]
  },
  {
   "cell_type": "code",
   "execution_count": 231,
   "metadata": {
    "scrolled": true
   },
   "outputs": [
    {
     "data": {
      "image/png": "[encoded data removed]",
      "text/plain": [
       "<Figure size 432x288 with 1 Axes>"
      ]
     },
     "metadata": {
      "needs_background": "light"
     },
     "output_type": "display_data"
    }
   ],
   "source": [
    "#Going to narrow it down to <500to get a better visual\n",
    "\n",
    "sns.histplot(sandwiches[sandwiches['word_count'] <= 50], palette = 'Reds').axvline(sandwiches['word_count'].mean())\n",
    "plt.title('Sandiwches Word Count Distribution')\n",
    "plt.xlabel('Word Count');\n",
    "plt.savefig('images/sw_wc.jpg')"
   ]
  },
  {
   "cell_type": "markdown",
   "metadata": {},
   "source": [
    "The distirubtion here is also heavily skewed to the right, which makes sense because people probably don't want to write a lot."
   ]
  },
  {
   "cell_type": "code",
   "execution_count": 232,
   "metadata": {},
   "outputs": [
    {
     "data": {
      "text/plain": [
       "25.5914"
      ]
     },
     "execution_count": 232,
     "metadata": {},
     "output_type": "execute_result"
    }
   ],
   "source": [
    "#Average word count per group\n",
    "\n",
    "microgrowery['word_count'].mean()"
   ]
  },
  {
   "cell_type": "code",
   "execution_count": 233,
   "metadata": {},
   "outputs": [
    {
     "data": {
      "text/plain": [
       "14.1084"
      ]
     },
     "execution_count": 233,
     "metadata": {},
     "output_type": "execute_result"
    }
   ],
   "source": [
    "sandwiches['word_count'].mean()"
   ]
  },
  {
   "cell_type": "markdown",
   "metadata": {},
   "source": [
    "The average word count of the microgrowery subreddit is singificantly higher than that of the sandwiches subreddit. This could be because microgrowery may require more words to talk about than sandwiches."
   ]
  },
  {
   "cell_type": "code",
   "execution_count": 234,
   "metadata": {},
   "outputs": [
    {
     "data": {
      "text/plain": [
       "count    5000.000000\n",
       "mean       25.591400\n",
       "std        40.392068\n",
       "min         1.000000\n",
       "25%         6.000000\n",
       "50%        13.000000\n",
       "75%        28.000000\n",
       "max       998.000000\n",
       "Name: word_count, dtype: float64"
      ]
     },
     "execution_count": 234,
     "metadata": {},
     "output_type": "execute_result"
    }
   ],
   "source": [
    "#Let's look at the summary statistics for the word counts\n",
    "\n",
    "microgrowery['word_count'].describe()"
   ]
  },
  {
   "cell_type": "code",
   "execution_count": 235,
   "metadata": {},
   "outputs": [
    {
     "data": {
      "text/plain": [
       "count    5000.0000\n",
       "mean       14.1084\n",
       "std        23.9459\n",
       "min         1.0000\n",
       "25%         5.0000\n",
       "50%         9.0000\n",
       "75%        15.0000\n",
       "max       747.0000\n",
       "Name: word_count, dtype: float64"
      ]
     },
     "execution_count": 235,
     "metadata": {},
     "output_type": "execute_result"
    }
   ],
   "source": [
    "sandwiches['word_count'].describe()"
   ]
  },
  {
   "cell_type": "code",
   "execution_count": 236,
   "metadata": {},
   "outputs": [
    {
     "data": {
      "image/png": "[encoded data removed]",
      "text/plain": [
       "<Figure size 432x288 with 1 Axes>"
      ]
     },
     "metadata": {
      "needs_background": "light"
     },
     "output_type": "display_data"
    }
   ],
   "source": [
    "#I'm going to make a boxplot to better understand the outliers for each subreddit\n",
    "\n",
    "sns.boxplot(x = microgrowery['word_count'])\n",
    "plt.title('Microgrowery Word Count')\n",
    "plt.xlabel('Word Count');\n",
    "\n",
    "#There is one outlier that is significantly farther than the others"
   ]
  },
  {
   "cell_type": "code",
   "execution_count": 237,
   "metadata": {},
   "outputs": [
    {
     "data": {
      "image/png": "[encoded data removed]",
      "text/plain": [
       "<Figure size 432x288 with 1 Axes>"
      ]
     },
     "metadata": {
      "needs_background": "light"
     },
     "output_type": "display_data"
    }
   ],
   "source": [
    "sns.boxplot(x = microgrowery[microgrowery['word_count'] < 400]['word_count'])\n",
    "plt.title('Microgrowery Word Count')\n",
    "plt.xlabel('Word Count');\n",
    "#Looks like everything past about 50 or so words is an outlier"
   ]
  },
  {
   "cell_type": "code",
   "execution_count": 238,
   "metadata": {},
   "outputs": [
    {
     "data": {
      "image/png": "[encoded data removed]",
      "text/plain": [
       "<Figure size 432x288 with 1 Axes>"
      ]
     },
     "metadata": {
      "needs_background": "light"
     },
     "output_type": "display_data"
    }
   ],
   "source": [
    "#Let's look at sandwiches\n",
    "\n",
    "sns.boxplot(x = sandwiches['word_count'])\n",
    "plt.title('Sandiwches Word Count')\n",
    "plt.xlabel('Word Count');\n",
    "\n",
    "#Same problem here"
   ]
  },
  {
   "cell_type": "code",
   "execution_count": 239,
   "metadata": {},
   "outputs": [
    {
     "data": {
      "image/png": "[encoded data removed]",
      "text/plain": [
       "<Figure size 432x288 with 1 Axes>"
      ]
     },
     "metadata": {
      "needs_background": "light"
     },
     "output_type": "display_data"
    }
   ],
   "source": [
    "#Here, the outlier threshold is lower than for microgrowery at about 25 words\n",
    "\n",
    "sns.boxplot(x = sandwiches[sandwiches['word_count'] < 200]['word_count'])\n",
    "plt.title('Sandwiches Word Count')\n",
    "plt.xlabel('Word Count');"
   ]
  },
  {
   "cell_type": "markdown",
   "metadata": {},
   "source": [
    "## Top words analysis"
   ]
  },
  {
   "cell_type": "code",
   "execution_count": 240,
   "metadata": {},
   "outputs": [],
   "source": [
    "microgrowery_vector = vectorized[vectorized['from_sub'] == 'microgrowery']"
   ]
  },
  {
   "cell_type": "code",
   "execution_count": 241,
   "metadata": {},
   "outputs": [],
   "source": [
    "sandwiches_vector = vectorized[vectorized['from_sub'] == 'sandwiches']"
   ]
  },
  {
   "cell_type": "code",
   "execution_count": 242,
   "metadata": {},
   "outputs": [],
   "source": [
    "word_counts_microgrowery = pd.DataFrame(microgrowery_vector.drop(columns = 'from_sub').sum())"
   ]
  },
  {
   "cell_type": "code",
   "execution_count": 243,
   "metadata": {},
   "outputs": [],
   "source": [
    "word_counts_sandwiches = pd.DataFrame(sandwiches_vector.drop(columns = 'from_sub').sum())"
   ]
  },
  {
   "cell_type": "code",
   "execution_count": 244,
   "metadata": {},
   "outputs": [],
   "source": [
    "word_counts_microgrowery = word_counts_microgrowery.sort_values(by = 0, ascending = False).head(30)"
   ]
  },
  {
   "cell_type": "code",
   "execution_count": 245,
   "metadata": {},
   "outputs": [],
   "source": [
    "word_counts_sandwiches = word_counts_sandwiches.sort_values(by = 0, ascending = False).head(30)"
   ]
  },
  {
   "cell_type": "code",
   "execution_count": 246,
   "metadata": {},
   "outputs": [
    {
     "data": {
      "image/png": "[encoded data removed]",
      "text/plain": [
       "<Figure size 1152x432 with 1 Axes>"
      ]
     },
     "metadata": {
      "needs_background": "light"
     },
     "output_type": "display_data"
    }
   ],
   "source": [
    "plt.figure(figsize = (16, 6))\n",
    "sns.barplot(x = 0, y = word_counts_microgrowery.index, data = word_counts_microgrowery, orient = 'h', palette = 'Reds')\n",
    "plt.title('Top 30 Words in Microgrowery');\n",
    "plt.xlabel('Count')\n",
    "plt.ylabel('Word');\n",
    "plt.savefig('images/top_mg.jpg')\n",
    "#Unsurprisingly, the most popular word is grow followed by terms related to growing"
   ]
  },
  {
   "cell_type": "code",
   "execution_count": 247,
   "metadata": {},
   "outputs": [
    {
     "data": {
      "image/png": "[encoded data removed]",
      "text/plain": [
       "<Figure size 1152x432 with 1 Axes>"
      ]
     },
     "metadata": {
      "needs_background": "light"
     },
     "output_type": "display_data"
    }
   ],
   "source": [
    "plt.figure(figsize = (16, 6))\n",
    "sns.barplot(x = 0, y = word_counts_sandwiches.index, data = word_counts_sandwiches, orient = 'h', palette = 'Reds')\n",
    "plt.title('Top 30 Words in Sandwiches');\n",
    "plt.xlabel('Count')\n",
    "plt.ylabel('Word');\n",
    "plt.savefig('images/top_sw.jpg')\n",
    "#Unsurprisingly, the most popular word is sandwich followed by ingredients found in sandwiches"
   ]
  },
  {
   "cell_type": "code",
   "execution_count": 248,
   "metadata": {},
   "outputs": [
    {
     "data": {
      "text/plain": [
       "['wa']"
      ]
     },
     "execution_count": 248,
     "metadata": {},
     "output_type": "execute_result"
    }
   ],
   "source": [
    "#List comprehension that will return all the common words in the top 30\n",
    "\n",
    "[word for word in word_counts_sandwiches.index if word in word_counts_microgrowery.index]\n",
    "\n",
    "#Haha, but it's not that helpful"
   ]
  },
  {
   "cell_type": "markdown",
   "metadata": {},
   "source": [
    "## Sentiment Analysis"
   ]
  },
  {
   "cell_type": "code",
   "execution_count": 249,
   "metadata": {},
   "outputs": [],
   "source": [
    "#Source: https://www.youtube.com/watch?v=kHuAi_gtR-o\n",
    "\n",
    "analyzer = SentimentIntensityAnalyzer()"
   ]
  },
  {
   "cell_type": "code",
   "execution_count": 251,
   "metadata": {},
   "outputs": [],
   "source": [
    "microgrowery['polarity_score'] = [analyzer.polarity_scores(box)['compound'] for box in microgrowery['text']]"
   ]
  },
  {
   "cell_type": "code",
   "execution_count": 252,
   "metadata": {},
   "outputs": [],
   "source": [
    "sandwiches['polarity_score'] = [analyzer.polarity_scores(box)['compound'] for box in sandwiches['text']]"
   ]
  },
  {
   "cell_type": "code",
   "execution_count": 255,
   "metadata": {},
   "outputs": [
    {
     "data": {
      "image/png": "[encoded data removed]",
      "text/plain": [
       "<Figure size 432x288 with 1 Axes>"
      ]
     },
     "metadata": {
      "needs_background": "light"
     },
     "output_type": "display_data"
    }
   ],
   "source": [
    "sns.histplot(microgrowery['polarity_score'], palette = 'Reds').axvline(microgrowery['polarity_score'].mean())\n",
    "plt.title('Microgrowery Polarity Distribution')\n",
    "plt.xlabel('Polarity Score');\n",
    "plt.savefig('images/polarity_mg.jpg')"
   ]
  },
  {
   "cell_type": "code",
   "execution_count": 256,
   "metadata": {},
   "outputs": [
    {
     "data": {
      "image/png": "[encoded data removed]",
      "text/plain": [
       "<Figure size 432x288 with 1 Axes>"
      ]
     },
     "metadata": {
      "needs_background": "light"
     },
     "output_type": "display_data"
    }
   ],
   "source": [
    "sns.histplot(sandwiches['polarity_score'], palette = 'Reds').axvline(sandwiches['polarity_score'].mean())\n",
    "plt.title('Sandiwches Polarity Distribution')\n",
    "plt.xlabel('Polarity Score');\n",
    "plt.savefig('images/polarity_sw.jpg')"
   ]
  },
  {
   "cell_type": "code",
   "execution_count": 257,
   "metadata": {},
   "outputs": [
    {
     "data": {
      "image/png": "[encoded data removed]",
      "text/plain": [
       "<Figure size 432x288 with 1 Axes>"
      ]
     },
     "metadata": {
      "needs_background": "light"
     },
     "output_type": "display_data"
    }
   ],
   "source": [
    "#There are a lot of 0s which makes sense, but I want to see the disributions without\n",
    "#all of the 0s\n",
    "\n",
    "sns.histplot(microgrowery[microgrowery['polarity_score'] != 0]['polarity_score'], palette = 'Reds')\n",
    "plt.title('Microgrowery Polarity Distribution (No 0s)')\n",
    "plt.xlabel('Polarity Score');"
   ]
  },
  {
   "cell_type": "code",
   "execution_count": 84,
   "metadata": {},
   "outputs": [
    {
     "data": {
      "text/plain": [
       "-0.6918887471304048"
      ]
     },
     "execution_count": 84,
     "metadata": {},
     "output_type": "execute_result"
    }
   ],
   "source": [
    "microgrowery[microgrowery['polarity_score'] != 0]['polarity_score'].skew()"
   ]
  },
  {
   "cell_type": "code",
   "execution_count": 85,
   "metadata": {},
   "outputs": [
    {
     "data": {
      "image/png": "[encoded data removed]",
      "text/plain": [
       "<Figure size 432x288 with 1 Axes>"
      ]
     },
     "metadata": {
      "needs_background": "light"
     },
     "output_type": "display_data"
    }
   ],
   "source": [
    "sns.histplot(sandwiches[sandwiches['polarity_score'] != 0]['polarity_score'])\n",
    "plt.title('Sandwiches Polarity Distribution (No 0s)')\n",
    "plt.xlabel('Polarity Score');"
   ]
  },
  {
   "cell_type": "code",
   "execution_count": 86,
   "metadata": {},
   "outputs": [
    {
     "data": {
      "text/plain": [
       "-1.0448371037204927"
      ]
     },
     "execution_count": 86,
     "metadata": {},
     "output_type": "execute_result"
    }
   ],
   "source": [
    "sandwiches[sandwiches['polarity_score'] != 0]['polarity_score'].skew()"
   ]
  },
  {
   "cell_type": "markdown",
   "metadata": {},
   "source": [
    "For both subreddits, the majority of posts fall between 0 and 1."
   ]
  },
  {
   "cell_type": "markdown",
   "metadata": {},
   "source": [
    "---"
   ]
  },
  {
   "cell_type": "markdown",
   "metadata": {},
   "source": [
    "Based on the top word analysis I believe a model will be able to classify reddit posts into the correct subreddit."
   ]
  },
  {
   "cell_type": "markdown",
   "metadata": {},
   "source": [
    "## The models"
   ]
  },
  {
   "cell_type": "markdown",
   "metadata": {},
   "source": [
    "### Splitting data"
   ]
  },
  {
   "cell_type": "code",
   "execution_count": 87,
   "metadata": {
    "scrolled": true
   },
   "outputs": [],
   "source": [
    "X = vectorized.drop(columns = 'from_sub')"
   ]
  },
  {
   "cell_type": "code",
   "execution_count": 88,
   "metadata": {},
   "outputs": [],
   "source": [
    "y = vectorized['from_sub']"
   ]
  },
  {
   "cell_type": "code",
   "execution_count": 89,
   "metadata": {},
   "outputs": [],
   "source": [
    "X_train, X_test, y_train, y_test = train_test_split(X, y, test_size = 0.25, random_state = 1)"
   ]
  },
  {
   "cell_type": "markdown",
   "metadata": {},
   "source": [
    "### Random Forest"
   ]
  },
  {
   "cell_type": "code",
   "execution_count": 100,
   "metadata": {},
   "outputs": [],
   "source": [
    "rf = RandomForestClassifier(n_estimators = 100, max_depth = 5)"
   ]
  },
  {
   "cell_type": "code",
   "execution_count": 101,
   "metadata": {},
   "outputs": [
    {
     "data": {
      "text/plain": [
       "RandomForestClassifier(max_depth=5)"
      ]
     },
     "execution_count": 101,
     "metadata": {},
     "output_type": "execute_result"
    }
   ],
   "source": [
    "rf.fit(X_train, y_train)"
   ]
  },
  {
   "cell_type": "code",
   "execution_count": null,
   "metadata": {},
   "outputs": [],
   "source": [
    "#Score on train set\n",
    "\n",
    "rf.score(X_train, y_train)"
   ]
  },
  {
   "cell_type": "code",
   "execution_count": 102,
   "metadata": {},
   "outputs": [
    {
     "data": {
      "text/plain": [
       "0.9148"
      ]
     },
     "execution_count": 102,
     "metadata": {},
     "output_type": "execute_result"
    }
   ],
   "source": [
    "rf.score(X_train, y_train)"
   ]
  },
  {
   "cell_type": "code",
   "execution_count": 103,
   "metadata": {},
   "outputs": [
    {
     "data": {
      "text/plain": [
       "0.902"
      ]
     },
     "execution_count": 103,
     "metadata": {},
     "output_type": "execute_result"
    }
   ],
   "source": [
    "#Score on test set\n",
    "\n",
    "rf.score(X_test, y_test)"
   ]
  },
  {
   "cell_type": "code",
   "execution_count": 112,
   "metadata": {},
   "outputs": [
    {
     "data": {
      "image/png": "[encoded data removed]",
      "text/plain": [
       "<Figure size 432x288 with 2 Axes>"
      ]
     },
     "metadata": {
      "needs_background": "light"
     },
     "output_type": "display_data"
    }
   ],
   "source": [
    "plot_confusion_matrix(rf, X_test, y_test, cmap = 'Reds')\n",
    "plt.title('Random Forest Confusion Matrix');\n",
    "plt.savefig('images/rf_confusion.jpg')"
   ]
  },
  {
   "cell_type": "markdown",
   "metadata": {},
   "source": [
    "This has beaten the baseline, which is 0.5. The only downfall I can think of for this model is that it is potentially overfit due to the very high score on the train set. apart from that, the model is very successful. It has a high accuracy which means it can correctly classify true positives and true negatives. However, it had more trouble classifying posts from r/microgrowery than r/sandwiches."
   ]
  },
  {
   "cell_type": "markdown",
   "metadata": {},
   "source": [
    "### KNN"
   ]
  },
  {
   "cell_type": "code",
   "execution_count": 90,
   "metadata": {},
   "outputs": [],
   "source": [
    "knn = KNeighborsClassifier(n_neighbors = 2, n_jobs = -1)"
   ]
  },
  {
   "cell_type": "code",
   "execution_count": 91,
   "metadata": {},
   "outputs": [
    {
     "data": {
      "text/plain": [
       "KNeighborsClassifier(n_jobs=-1, n_neighbors=2)"
      ]
     },
     "execution_count": 91,
     "metadata": {},
     "output_type": "execute_result"
    }
   ],
   "source": [
    "knn.fit(X_train, y_train)"
   ]
  },
  {
   "cell_type": "code",
   "execution_count": 92,
   "metadata": {},
   "outputs": [],
   "source": [
    "y_pred = knn.predict(X_train)"
   ]
  },
  {
   "cell_type": "code",
   "execution_count": 93,
   "metadata": {},
   "outputs": [
    {
     "data": {
      "text/plain": [
       "0.9244"
      ]
     },
     "execution_count": 93,
     "metadata": {},
     "output_type": "execute_result"
    }
   ],
   "source": [
    "accuracy_score(y_train, y_pred)"
   ]
  },
  {
   "cell_type": "code",
   "execution_count": 94,
   "metadata": {},
   "outputs": [
    {
     "data": {
      "text/plain": [
       "0.8612"
      ]
     },
     "execution_count": 94,
     "metadata": {},
     "output_type": "execute_result"
    }
   ],
   "source": [
    "knn.score(X_test, y_test)"
   ]
  },
  {
   "cell_type": "code",
   "execution_count": 95,
   "metadata": {},
   "outputs": [
    {
     "data": {
      "text/plain": [
       "array([[1249,   22],\n",
       "       [ 325,  904]], dtype=int64)"
      ]
     },
     "execution_count": 95,
     "metadata": {},
     "output_type": "execute_result"
    }
   ],
   "source": [
    "confusion_matrix(y_test, knn.predict(X_test))"
   ]
  },
  {
   "cell_type": "code",
   "execution_count": 258,
   "metadata": {},
   "outputs": [
    {
     "data": {
      "image/png": "[encoded data removed]",
      "text/plain": [
       "<Figure size 432x288 with 2 Axes>"
      ]
     },
     "metadata": {
      "needs_background": "light"
     },
     "output_type": "display_data"
    }
   ],
   "source": [
    "plot_confusion_matrix(knn, X_test, y_test, cmap = 'Reds')\n",
    "plt.title('KNN Confusion Matrix');\n",
    "plt.savefig('images/knn_confusion.jpg')"
   ]
  },
  {
   "cell_type": "markdown",
   "metadata": {},
   "source": [
    "This is also a good model. Although it did not perform as well on the test set as the Random Forest model, it's abilit to classify true positives and negatives is good. This model had more trouble correctly classifying text from r/sandwiches than r/microgrowery which is opposite of the Random Forest model."
   ]
  },
  {
   "cell_type": "markdown",
   "metadata": {},
   "source": [
    "---"
   ]
  },
  {
   "cell_type": "markdown",
   "metadata": {},
   "source": [
    "The model that will be used is the Random Forest model because it has the highest accuracy on the test set and does not seem to be overfit on the train set."
   ]
  },
  {
   "cell_type": "markdown",
   "metadata": {},
   "source": [
    "---"
   ]
  },
  {
   "cell_type": "markdown",
   "metadata": {},
   "source": [
    "## Conclusion"
   ]
  },
  {
   "cell_type": "markdown",
   "metadata": {},
   "source": [
    "Reccomendation: Because this model IS able to predict, with high accuracy, the classification of subreddit posts based on text, I recommend that reddit employees use this model to assist them in classifying their subreddit posts until they can fix their servers."
   ]
  },
  {
   "cell_type": "markdown",
   "metadata": {},
   "source": [
    "To improve this project, I would do a more thorough data clean and train more types of models. Also, I would use pipeline to assist in model testing and data cleaning. Lastly, more computing power would be very nice. It severely limited me in this project."
   ]
  }
 ],
 "metadata": {
  "kernelspec": {
   "display_name": "Python 3",
   "language": "python",
   "name": "python3"
  },
  "language_info": {
   "codemirror_mode": {
    "name": "ipython",
    "version": 3
   },
   "file_extension": ".py",
   "mimetype": "text/x-python",
   "name": "python",
   "nbconvert_exporter": "python",
   "pygments_lexer": "ipython3",
   "version": "3.8.5"
  }
 },
 "nbformat": 4,
 "nbformat_minor": 4
}
